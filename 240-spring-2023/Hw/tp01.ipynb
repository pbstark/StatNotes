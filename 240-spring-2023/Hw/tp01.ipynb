{
 "cells": [
  {
   "cell_type": "markdown",
   "id": "308c4f14-8927-4055-9716-29922c664d2d",
   "metadata": {},
   "source": [
    "# Term project"
   ]
  },
  {
   "cell_type": "markdown",
   "id": "3ba5e014-51fd-4b6f-a8f2-d16c149b1516",
   "metadata": {},
   "source": [
    "The term project concerns a paper recently published in _Science Advances_: \n",
    "Proffitt, T., J.S. Reeves, D.R. Braun, S. Malaivijitnond, and L.V. Luncz, 2023. \n",
    "Wild macaques challenge the origin of intentional tool production,\n",
    "_Science Advances_, _9_, https://www.science.org/doi/full/10.1126/sciadv.ade8159\n",
    "\n",
    "\n",
    "The paper analyzes stone flakes made by macaques when they use stones as \"hammers\" to open nuts, comparing the flakes to stone flakes previously considered to be evidence of intentional toolmaking by hominins 1.5 to 3.3 million years ago.\n",
    "\n",
    "Here's a video of macaques opening nuts with stones:\n",
    "\n",
    "\n",
    "https://www.science.org/content/article/monkey-rock-bashing-resembles-tools-made-early-human-ancestors"
   ]
  },
  {
   "cell_type": "markdown",
   "id": "cfc27be3-3ac6-4bc2-8b7b-450220c73046",
   "metadata": {},
   "source": [
    "The paper uses a variety of nonparametric methods. The authors made their R code and data available in the supplementary materials.\n",
    "\n",
    "Stone tools are remarkably effective. Indeed, stone knives (obsidian, flint, etc.) can be substantially sharper than the sharpest metal knives, with edges a single molecule wide. There have been experiments using stone scalpels in surgery; I understand that the surgical incisions heal quicker and with less scarring than those made with metal scalpels. https://www.cnn.com/2015/04/02/health/surgery-scalpels-obsidian/index.html"
   ]
  },
  {
   "cell_type": "markdown",
   "id": "ce3bd945-afbb-46ea-bece-1fe7c6183f9c",
   "metadata": {},
   "source": [
    "## Scientific background\n",
    "\n",
    "1. What is the main or most important conclusion of the paper?\n",
    "\n",
    "1. Where are the macaque data from?\n",
    "\n",
    "1. Where are the archeological data from? Are they from the same place as the macaque data? Are the parent stones the same approximate composition/mineeralogy? Does the paper say?\n",
    "\n",
    "1. What are the scientific null hypotheses the paper addresses?"
   ]
  },
  {
   "cell_type": "markdown",
   "id": "dc6cc822-cf8a-4a62-a94e-d0abd2420ebc",
   "metadata": {},
   "source": [
    "## Replication\n",
    "\n",
    "5. Verify that their R code runs on the data they provided and that it yields the results reported in the paper. Show the output."
   ]
  },
  {
   "cell_type": "markdown",
   "id": "99036cbb-1c72-4ff6-a22d-36155fcedc70",
   "metadata": {},
   "source": [
    "## Statistical analysis\n",
    "\n",
    "6. Explain in a few sentences each of the statistical analyses the paper performs.\n",
    "    - What are the data?\n",
    "    - What are the statistical null hypotheses (if any) for each analysis? How do the statistical nulls relate to the scientific nulls?\n",
    "    - What is computed?\n",
    "    - What do the authors conclude from each analysis?\n",
    "    - Is multiplicity an issue? Do the authors adjust for multiplicity? If so, how?\n",
    "\n",
    "7. One analysis in the paper combines the archeological samples with randomly selected additional samples from the macaque flakes, then tests whether the resulting population has parameters that differ significantly from the parameters of the archeological sample. \n",
    "    - Explain this analysis and critique it. \n",
    "    - Does it test a scientific hypothesis? If so, what hypothesis? \n",
    "    - Does it estimate a population parameter?  If so, what parameter of what population?\n",
    "    - If there were more archeological samples, how would that affect this analysis--the numbers and the conclusions? \n",
    "    - Suppose that all the macaque flakes were very similar to each other, and similar to a subset of the archeological data. How would this test behave? What would it mean to reject the null hypothesis? (Consider how the two sets of data came to be, and what they represent.)\n",
    "    - How do you interpret this analysis in the paper?\n",
    "    - Does it make sense to analyze the macaque data and the archeological data as an instance of the two-sample problem? Why or why not? What scientific question does it answer?\n",
    "\n",
    "8. Explain the \"(new) Cramer test for the two-sample problem,\" citing https://doi.org/10.1016/S0047-259X(03)00079-4 \n",
    "    - What is the null hypothesis? \n",
    "    - What is the test statistic? \n",
    "    - The test statistic involves the Euclidean distance between points in $\\mathbb{R}^n$. \n",
    "        + The Euclidean distance is invariant under a number of transformations. Give two.\n",
    "        + Would you expect those invariances to hold in this problem if the null hypothesis is true? Why or why not?\n",
    "    - How is the significance level calibrated?\n",
    "    - In what real-world situations does that test statistic make sense?\n",
    "    - Does the test statistic make sense for this application? Why or why not? \n",
    "    - Suggest one or more test statistics better matched to this scientific problem."
   ]
  },
  {
   "cell_type": "markdown",
   "id": "dd3f799c-9a4d-4e15-aaf5-12cb0fbaa018",
   "metadata": {},
   "source": [
    "## New analysis\n",
    "\n",
    "9. Nonparametric combination of tests across different flake features.\n",
    "\n",
    "10. "
   ]
  },
  {
   "cell_type": "markdown",
   "id": "70dd70be-8912-476f-ad68-109640008111",
   "metadata": {},
   "source": [
    "## Synthesis\n",
    "\n",
    "12. John Tukey wrote, \"[t]he combination of some data and an aching desire for an answer does not ensure that a reasonable answer can be extracted from a given body of data.\" What scientific questions do you think can be reaasonably answered from the data this study relies on?"
   ]
  }
 ],
 "metadata": {
  "kernelspec": {
   "display_name": "Python 3 (ipykernel)",
   "language": "python",
   "name": "python3"
  },
  "language_info": {
   "codemirror_mode": {
    "name": "ipython",
    "version": 3
   },
   "file_extension": ".py",
   "mimetype": "text/x-python",
   "name": "python",
   "nbconvert_exporter": "python",
   "pygments_lexer": "ipython3",
   "version": "3.10.4"
  }
 },
 "nbformat": 4,
 "nbformat_minor": 5
}
