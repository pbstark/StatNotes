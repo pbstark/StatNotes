{
 "cells": [
  {
   "cell_type": "markdown",
   "id": "c5061bf0-6c93-4d62-b605-6322dc574f26",
   "metadata": {},
   "source": [
    "# Earthquakes"
   ]
  },
  {
   "cell_type": "markdown",
   "id": "969db362-f57d-41ed-b2a2-578159279fdb",
   "metadata": {},
   "source": [
    "1. The file https://www.stat.berkeley.edu/~stark/Java/Data/lomaPrieta.dat contains 221 observations of the times of putative aftershocks of the 17 October 1989 earthquake in Loma Prieta, California.\n",
    "There are 222 lines in the file.\n",
    "The first is 0, the main shock, which occurred at 4:15:43pm.\n",
    "The other lines are the times in days from the main event to the aftershocks,\n",
    "defined as earthquakes determined to have magnitude 3.0 and above, focal depth\n",
    "of 0--20km, and epicenter within 40km of the epicenter of the Loma Prieta earthquake.\n",
    "The data are from the UC Berkeley Seismographic Stations, courtesy of\n",
    "Dr. Bob Uhrhammer.  \n",
    "A common model for earthquakes (\"main\" shocks, not aftershocks) is that they are a spatially heterogeneous but temporally homogeneous Poisson\n",
    "process.\n",
    "If so, inter-event times have an exponential distribution, and conditional on the number $n$ of events in the time interval $[0, T]$, the times of the events are IID uniform.\n",
    "\n",
    "Treat the time of the first event as 0, and let $T = 805$.\n",
    "Find the $P$-value of the hypothesis that the 222 events are a realization of a Poisson process for three tests:\n",
    "    + The Kolmogorov-Smirnov test that the inter-event times are exponentially distributed\n",
    "    + The Kolmogorov-Smirnov test that the times of the 221 events after the first are IID uniform on $[0, T]$\n",
    "    + A 2-sample permutation test that compares the number of events in the first half of the interval, $[0, T/2)$, to the number in the second half, $[T/2, T]$.\n",
    "Comment on the results.\n",
    "Which test would you recommend? Why? (\"It gave the smallest $P$-value\" isn't a good reason: selecting the\n",
    "test after peeking at the data introduces multiplicity and selection\n",
    "that are hard to take into account in the $P$-value.)"
   ]
  }
 ],
 "metadata": {
  "kernelspec": {
   "display_name": "Python 3 (ipykernel)",
   "language": "python",
   "name": "python3"
  },
  "language_info": {
   "codemirror_mode": {
    "name": "ipython",
    "version": 3
   },
   "file_extension": ".py",
   "mimetype": "text/x-python",
   "name": "python",
   "nbconvert_exporter": "python",
   "pygments_lexer": "ipython3",
   "version": "3.10.4"
  }
 },
 "nbformat": 4,
 "nbformat_minor": 5
}
