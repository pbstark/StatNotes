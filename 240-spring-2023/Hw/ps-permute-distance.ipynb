{
 "cells": [
  {
   "cell_type": "markdown",
   "id": "8b07a7e2-21e6-44f1-a2fc-1f4754ff851f",
   "metadata": {},
   "source": [
    "# Tests using the \"distance\" between the empirical and the null"
   ]
  },
  {
   "cell_type": "markdown",
   "id": "08304b78-3acf-46c0-bba7-02a3c51c277d",
   "metadata": {},
   "source": [
    "1. Show that the collection of all sets of the form $(-\\infty, x] \\times (-\\infty, y]$\n",
    "comprise a Vapnik-Cervonenkis class (V-C class) over the plane.\n",
    "\n",
    "1. Show that if $\\mathcal{V}$ is the set of all closed intervals in $\\Re$,\n",
    "$m^{\\mathcal{V}}(n) = 1 + n + {{n}\\choose{2}}$.\n",
    "\n",
    "1. Show that intersections and finite unions of V-C classes are V-C classes. \n",
    "\n",
    "1. Show that countable unions of V-C classes need not be V-C classes.\n",
    "\n",
    "1. Code up Romano's approach for testing whether a set of $k$ of real-valued random variables is independent\n",
    "based on observing $n$ IID $k$-tuples of values, using group invariance (not the bootstrap approach). \n",
    "That is, we observe $\\{X_j\\}_{j=1}^n$ where each $X_j = (X_{j1}, \\ldots, X_{jk})$ takes values in $\\Re^k$.\n",
    "The null hypothesis is that for each $j$, the components $\\{X_{j1}, \\ldots, X_{jk}\\}$ are independent.\n",
    "Explain why you used the particular V-C class you chose.\n",
    "Is the relevant group of transformations for the hypothesis a finite or infinite group?\n",
    "As usual, provide unit tests and a coverage report for your code.\n",
    "\n",
    "1. Write a program to simulate data from $k$-variate normal distributions with different covariance matrices and apply the\n",
    "test you programmed in the previous question.\n",
    "Confirm that the level of the test is approximately correct by simulating from a multivariate normal distribution\n",
    "with a diagonal covariance matrix with various values of $k$ and $n$.\n",
    "Simulate the power of the test for level $\\alpha = 0.05$ as a function of $\\rho$\n",
    "for $k = 3$, $n=10$, $100$, and $1000$, and a covariance matrix of the form \n",
    "\\begin{equation}\n",
    "\\Sigma = \\left [ \\begin{array}{ccc}\n",
    "    1 & \\rho & 0\\\\\n",
    "    \\rho & 1 & 0 \\\\\n",
    "    0 & 0 & 1 \n",
    "    \\end{array}\n",
    "    \\right ]\n",
    "\\end{equation}\n",
    "for $\\rho \\in \\{-1, -.75, -.5, -.25, .25, .5, .75, 1\\}$.\n",
    "Provide unit tests and a coverage report for your code.\n"
   ]
  },
  {
   "cell_type": "code",
   "execution_count": null,
   "id": "141ed16d-e57e-4fd3-9e2f-e2ecde867236",
   "metadata": {},
   "outputs": [],
   "source": []
  }
 ],
 "metadata": {
  "kernelspec": {
   "display_name": "Python 3 (ipykernel)",
   "language": "python",
   "name": "python3"
  },
  "language_info": {
   "codemirror_mode": {
    "name": "ipython",
    "version": 3
   },
   "file_extension": ".py",
   "mimetype": "text/x-python",
   "name": "python",
   "nbconvert_exporter": "python",
   "pygments_lexer": "ipython3",
   "version": "3.10.4"
  }
 },
 "nbformat": 4,
 "nbformat_minor": 5
}
