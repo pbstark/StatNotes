{
 "cells": [
  {
   "cell_type": "markdown",
   "metadata": {},
   "source": [
    "# Nonparametric Statistics"
   ]
  },
  {
   "cell_type": "markdown",
   "metadata": {},
   "source": [
    "## Links to course content\n",
    "\n",
    "+ [Syllabus](./syllabus.ipynb)\n",
    "+ [Schedule and assignments](./assignments.ipynb)\n",
    "+ [Reading list and bibliography](./reading.ipynb)"
   ]
  },
  {
   "cell_type": "markdown",
   "metadata": {},
   "source": [
    "## Lecture notes\n",
    "\n",
    "+ [Mathematical Foundations](../math-foundations.ipynb)\n",
    "+ [Inequalities and Identities](../math-inequalities.ipynb)\n",
    "+ [Probability Foundations](../prob.ipynb)\n",
    "+ [Sets, Combinatorics, and Probability](../setsCombinatorics.ipynb)\n",
    "+ [Hypothesis tests, stratified tests, combining tests](../tests.ipynb)\n",
    "+ [Confidence sets](../confidence-sets.ipynb)\n",
    "+ [Inference when there are nuisance parameters](../nuisance.ipynb)\n",
    "+ [Causal inference](../causal-inference.ipynb)\n",
    "+ [Pseudo-random numbers, integers, samples, and permutations](../prngs.ipynb)\n",
    "+ [Introduction to permutation tests; application to gender bias in teaching evaluations](../permute-intro.ipynb)\n",
    "+ [Classical permutation tests based on ranks](../permute-classical.ipynb)\n",
    "+ [Tests of randomness and independence](../permute-independence.ipynb)\n",
    "+ [Simulating/randomizing $P$-values in permutation tests](../permute-prng.ipynb)\n",
    "+ [Simulated $P$-values are exact $P$-values for randomized tests](./permute-simulate-p.ipynb)\n",
    "+ [Abstract permutation tests based on projections](../permute-distance.ipynb)\n",
    "+ [Nonparametric confidence bounds for constrained means](../nonparametricConfidence.ipynb)\n",
    "    + Bounds based on the empirical distribution\n",
    "        - [Markov's inequality and the Kolmogorov-Smirnov distance](../markov.ipynb)\n",
    "        - [The Gaffke bound](../gaffke.ipynb)\n",
    "    + [Dollar-Unit Sampling and taint](../dus.ipynb)\n",
    "    + [Penny sampling](../pennySampling.ipynb)\n",
    "    + [Tests based on martingales and supermartingales](../martingales.ipynb)\n",
    "        - [Wald's Sequential Probability Ratio Test (SPRT)](../sprt.ipynb)\n",
    "        - [The SPRT for sampling without replacement](../pSPRTNoReplacement.ipynb)\n",
    "        - [The SPRT with nuisance parameters](../SPRTNuisance.ipynb)\n",
    "        - [The Kaplan-Wald confidence bound](../kaplanWald.ipynb)\n",
    "        - [Kaplan's martingale test](../kmart.ipynb)\n",
    "        - [Tests based on betting martingales: choosing the bet](../betting-martingales.ipynb)\n",
    "        - [Introduction to election auditing and the Kaplan-Markov Inequality](../audit.ipynb)\n",
    "+ [Combining tests](../tests-combo.ipynb)\n",
    "+ [Multiple testing](../tests-multiple.ipynb)\n",
    "+ [E-values and betting scores](../E-values.ipynb)\n",
    "+ [Resampling methods: Bootstrap, Jackknife, and permutation](../bootstrap.ipynb)\n",
    "+ [Fisher's exact test](../fisher-exact.ipynb)\n",
    "+ Inference from stratified samples\n",
    "    + [Inference about the mean of binary populations](../strat-binary.ipynb)\n",
    "    + [Inference about bounded populations](../strat-bounded.ipynb)\n",
    "+ [Statistical inference](../inference.ipynb)\n",
    "+ [Goodness of Fit Tests](../goodness_of_fit.ipynb)\n",
    "+ [Density estimation and inference; inverse problems](../density-estim.ipynb)\n",
    "+ [Election Audits](../election_audits.ipynb)"
   ]
  },
  {
   "cell_type": "code",
   "execution_count": null,
   "metadata": {},
   "outputs": [],
   "source": []
  }
 ],
 "metadata": {
  "kernelspec": {
   "display_name": "Python 3 (ipykernel)",
   "language": "python",
   "name": "python3"
  },
  "language_info": {
   "codemirror_mode": {
    "name": "ipython",
    "version": 3
   },
   "file_extension": ".py",
   "mimetype": "text/x-python",
   "name": "python",
   "nbconvert_exporter": "python",
   "pygments_lexer": "ipython3",
   "version": "3.10.4"
  }
 },
 "nbformat": 4,
 "nbformat_minor": 4
}
