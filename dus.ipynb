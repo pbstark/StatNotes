{
 "cells": [
  {
   "cell_type": "markdown",
   "metadata": {},
   "source": [
    "# Dollar-unit sampling and \"taint\"\n"
   ]
  },
  {
   "cell_type": "markdown",
   "metadata": {},
   "source": [
    "## Dollar-unit sampling\n",
    "\n",
    "Dollar-unit sampling (DUS) is a form of probability proportional to size (PPS) sampling that originated in statistical financial auditing.  In this case, \"size\" is an upper bound on the value of the item; DUS is sometimes called sampling with probability proportional to an upper bound (PPUB).\n",
    "\n",
    "The idea is that each item in a population has a reported value and a true value; the true value is known only if the item is audited&mdash;which is expensive.  There is a possibility that the reported value is too high.  We sample units with probability proportional to their reported values.\n",
    "\n",
    "Intuitively, it makes sense to focus attention on the items with larger reported values, because \"that's where the money is.\" Errors in the values of those items potentially have a larger effect on the error in the total reported value for the population.\n",
    "\n",
    "### The math\n",
    "\n",
    "There are $N$ items, $\\{x_j\\}_{j=1}^N$. There are $N$ known numbers $\\{u_j\\}_{j=1}^N$ such that\n",
    "\\begin{equation*} \n",
    "   0 \\le x_j \\le u_j, \\; j = 1, \\ldots, N.\n",
    "\\end{equation*}\n",
    "Define $u := \\sum_{j=1}^N u_j$, $x := \\sum_{j=1}^N x_j$, and $\\mu := x/N = \\frac{1}{N} \\sum_{j=1}^N x_j$.\n",
    "\n",
    "We will consider only sampling with replacement (although this can be extended to sampling without replacement).\n",
    "\n",
    "In the $i$th draw, we select item $j$ with probability $\\pi_j := u_j/u$.  \n",
    "\n",
    "Suppose the $i$th draw selects item $J$.\n",
    "Then $X_i = x_J$ and $U_i = u_J$.\n",
    "If we sample with replacement, $\\{X_i\\}$ are iid, as are $\\{U_i \\}$."
   ]
  },
  {
   "cell_type": "markdown",
   "metadata": {},
   "source": [
    "## Taint\n",
    "\n",
    "Define $t_j := x_j/u_j$. This value, the \"taint,\" is the fraction of the reported value that the true value represents.\n",
    "\n",
    "Define $t := x/u$. (This is _not_ parallel to the definitions of $x$ and $u$.)\n",
    "\n",
    "Define $T_i := X_i/U_i$, the taint of the item selected in the $i$th draw. Then $\\{T_i \\}$ are iid.\n",
    "\n",
    "Calculate:\n",
    "\\begin{equation*} \n",
    "    \\mathbb E T_i = \\sum_{j=1}^N t_j \\pi_j = \\sum_{j=1}^N (x_j/u_j) (u_j/u) = \\frac{1}{u}\\sum_{j=1}^N x_j = x/u = t.\n",
    "\\end{equation*}\n",
    "Thus the expected value of the taint for any draw, times $u$, is the population total $x$.\n",
    "\n",
    "Since $u$ is known, we can translate an upper confidence bound for $\\mathbb E T_i$ into an upper confidence bound for $x$ or for $\\mu$ by multiplication.\n",
    "\n",
    "This is the relationship we will exploit to connect auditing problems to the problem of finding a nonparametric confidence bound for the mean of a non-negative or bounded population.\n",
    "\n",
    "The main point is that since $\\mathbb P \\{T_i \\in [0, 1]\\} = 1$, we can use any of the methods we've developed for finding confidence bounds for the mean of nonnegative or bounded populations (Binomial with thresholding, Chebychev's inequality, Hoeffding's inequality, Markov's inequality, Anderson's method, the Kaplan-Markov method, or other supermartingale-based methods) to make confidence bonds for $\\mathbb E T_i$.  \n",
    "In turn, any confidence bound for $t$ can be translated easily into a rigorous confidence bound for the population mean $\\mu$ and population total $x$."
   ]
  },
  {
   "cell_type": "markdown",
   "metadata": {},
   "source": [
    "## Some examples\n",
    "\n",
    "### Litigation and elections\n",
    "\n",
    "A plaintiff might want to find a confidence bound in one direction; a defendant might want a confidence bound in the opposite direction.\n",
    "\n",
    "+ Employment litigation\n",
    "  - wage and hour: overtime is nonnegative, and has an upper bound based on the number of days an employee worked\n",
    "  - missed meal or rest breaks: nonnegative and has an upper bound based on days worked\n",
    "+ Toxic tort class action\n",
    "  - damages are nonnegative\n",
    "+ Construction defects, product defects\n",
    "  - damages nonnegative and bounded (e.g., by replacement cost)\n",
    "+ Illegal charges for loan origination\n",
    "  - nonnegative and bounded by total origination fee\n",
    "+ Patent and intellectual property infringement\n",
    "  - damages nonnegative; upper bound from royalty rate and number of potentially infringing items\n",
    "+ Healthcare fraud\n",
    "  - damages nonnegative and bounded by billed amount\n",
    "+ Tax fraud\n",
    "  - taxes paid is an upper bound\n",
    "+ Under-refunding of security deposits\n",
    "  - amount not refunded is an upper bound\n",
    "+ Election integrity\n",
    "  - upper and lower bounds on the error in counting the votes on a ballot depend on the election rules; I'll talk about this in my plenary lecture"
   ]
  },
  {
   "cell_type": "markdown",
   "metadata": {},
   "source": [
    "Here's simple code to draw a weighted random sample in Python. For other approaches, see \n",
    "[the cryptorandom library](https://github.com/statlab/cryptorandom)."
   ]
  },
  {
   "cell_type": "code",
   "execution_count": 1,
   "metadata": {},
   "outputs": [],
   "source": [
    "# This is the first cell with code: set up the Python environment\n",
    "%matplotlib inline\n",
    "import matplotlib.pyplot as plt\n",
    "import math\n",
    "import numpy as np\n",
    "import scipy as sp\n",
    "import scipy.stats\n",
    "from scipy.stats import binom\n",
    "import pandas as pd\n",
    "from ipywidgets import interact, interactive, fixed\n",
    "import ipywidgets as widgets\n",
    "from IPython.display import clear_output, display, HTML"
   ]
  },
  {
   "cell_type": "code",
   "execution_count": 2,
   "metadata": {},
   "outputs": [],
   "source": [
    "def weightedRandomSample(n, weights):\n",
    "    '''\n",
    "       Weighted random sample of size n drawn with replacement.\n",
    "       Returns indices of the selected items and the raw uniform values used to \n",
    "       select them.\n",
    "    '''\n",
    "    if any(weights < 0):\n",
    "        print('negative weight in weightedRandomSample')\n",
    "        return float('NaN')\n",
    "    else:\n",
    "        wc = np.cumsum(weights, dtype=float)/np.sum(weights, dtype=float)  # ensure weights sum to 1\n",
    "        theSam = np.random.random_sample((n,))\n",
    "        return np.array(wc).searchsorted(theSam), theSam"
   ]
  },
  {
   "cell_type": "code",
   "execution_count": 3,
   "metadata": {},
   "outputs": [
    {
     "name": "stdout",
     "output_type": "stream",
     "text": [
      "[1 1 1 1 2 2 2 2 2 2 2 3 3 3 3 3 3 3 3 3 3 3 3 3 3 4 4 4 4 4 4 4 4 5 5 5 5\n",
      " 5 5 5 5 5 5 5 5 5 6 6 6 6 6 6 6 6 6 6 6 6 6 7 7 7 7 7 7 7 7 7 7 7 7 8 8 8\n",
      " 8 8 8 8 8 8 8 8 8 8 8 8 9 9 9 9 9 9 9 9 9 9 9 9 9 9]\n"
     ]
    },
    {
     "data": {
      "text/plain": [
       "(array([ 4.,  7., 14.,  8., 13., 13., 12., 15.]),\n",
       " array([0.5, 1.5, 2.5, 3.5, 4.5, 5.5, 6.5, 7.5, 8.5]),\n",
       " <BarContainer object of 8 artists>)"
      ]
     },
     "execution_count": 3,
     "metadata": {},
     "output_type": "execute_result"
    },
    {
     "data": {
      "image/png": "[encoded data removed]",
      "text/plain": [
       "<Figure size 640x480 with 1 Axes>"
      ]
     },
     "metadata": {},
     "output_type": "display_data"
    }
   ],
   "source": [
    "# illustrate the random sampling code\n",
    "vals = 10\n",
    "n = 100\n",
    "w = np.arange(vals)+1  # linearly increasing weights\n",
    "wrs, raw = weightedRandomSample(n, w)\n",
    "print(np.sort(wrs))\n",
    "fig, ax = plt.subplots(nrows=1, ncols=1)\n",
    "bins = np.arange(np.min(wrs)-0.5, np.max(wrs)+0.5, 1)\n",
    "ax.hist(wrs, bins=bins)"
   ]
  },
  {
   "cell_type": "code",
   "execution_count": null,
   "metadata": {
    "tags": []
   },
   "outputs": [],
   "source": []
  }
 ],
 "metadata": {
  "anaconda-cloud": {},
  "kernelspec": {
   "display_name": "Python 3 (ipykernel)",
   "language": "python",
   "name": "python3"
  },
  "language_info": {
   "codemirror_mode": {
    "name": "ipython",
    "version": 3
   },
   "file_extension": ".py",
   "mimetype": "text/x-python",
   "name": "python",
   "nbconvert_exporter": "python",
   "pygments_lexer": "ipython3",
   "version": "3.10.4"
  }
 },
 "nbformat": 4,
 "nbformat_minor": 4
}
