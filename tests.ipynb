{
 "cells": [
  {
   "cell_type": "markdown",
   "metadata": {},
   "source": [
    "# Hypothesis Testing, Combinations of Tests, and Stratified Tests"
   ]
  },
  {
   "cell_type": "markdown",
   "metadata": {},
   "source": [
    "## Hypotheses\n",
    "\n",
    "A _scientific hypothesis_ is an assertion about the world, for instance \"this drug increases longevity in patients with Alzheimer's Disease,\" \"the outcome of the 2020 presidential election would have been different, but for fraud,\" \"to 6 significant digits, the gravitational constant is $6.67430e-11 Nm^2kg^{-2}$,\" \"the Moderna COVID-19 vaccine is at least 90% effective for at least 6 months for all ages,\" \"students give female instructorss lower ratings than equally effective male instructors,\" \"the universe is expanding at an increasing rate,\" \"there is a black hole at the center of the universe,\" or \"female faculty job applicants are interrupted more frequently during their job talks than male applicants are.\"\n",
    "\n",
    "A _statistical hypothesis_ is an assertion about the probability distribution $\\mathbb{P}$ of data $X$.\n",
    "\n",
    "Generally, statistical hypotheses are interesting only insofar as they help us evaluate scientific \n",
    "hypotheses.\n",
    "Whenever a statistical hypothesis is being tested, pay attention to the connection between that hypothesis and the scientific hypothesis it purports to represent."
   ]
  },
  {
   "cell_type": "markdown",
   "metadata": {},
   "source": [
    "### Types of Statistical Hypotheses\n",
    "\n",
    "A _simple_ statistical hypothesis is an assertion that completely specifies the probability distribution of the data, e.g., $\\mathbb{P} = \\mathbb{P}_0$ for some distribution $\\mathbb{P}_0$. Here are some simple hypotheses:\n",
    "\n",
    "* $X \\sim N(0,1)$ The data have a standard normal distribution.\n",
    "* $X \\sim U[0,1]$ The data have a standard uniform distribution.\n",
    "* $X \\sim N(\\mu, \\Sigma)$ for a given $\\mu \\in \\Re^n$ and positive semi-definite $n \\times n$ matrix $\\Sigma$. The data are jointly normally distributed with mean $\\mu$ and covariance matrix $\\Sigma$.\n",
    "* $\\{X_j\\}\\; \\mbox{IID} \\; U[0, 17]$. The components of the data are independent and identically distributed with a uniform distribution on $[0, 17]$.\n",
    "* $X \\sim \\mbox{Binom}(n, p)$ for given values of $n$ and $p$. The data have a binomial distribution with parameters $n$ and $p$.\n",
    "\n",
    "A _composite_ hypothesis is an assertion that does not completely specify the distribution; it only says the\n",
    "distribution is in some specified set of distributions. \n",
    "E.g., $\\mathbb{P} \\in \\mathcal{P}_0$ for some set\n",
    "$\\mathcal{P}_0$ of distributions. \n",
    "Here are some composite null hypotheses:\n",
    "\n",
    "* $X \\sim N(\\mu,1)$, $\\mu \\in [0, 7]$ The data have a normal distribution with variance 1 and mean between 0 and 7. \n",
    "* $X \\sim \\mbox{Binom}(n, p)$, $p > 1/2$ ($n$ given). The data have a binomial distribution with known parameter $n$ and unknown parameter $p > 1/2$.\n",
    "* $\\mathbb{E}X=0$ The expected value of the data is zero.\n",
    "* $\\mathbb{E}X \\le 1/2$ The expected value of the data is at most 1/2.\n",
    "* The distribution $\\mathbb{P}$ of $X$ has at most 3 modes.\n",
    "* $\\{X_j\\}_{j=1}^n$ are _exchangeable_ (A collection of random variables is _exchangeable_ if their joint distribution is invariant under permuting their labels. If a collection of random variables is IID, it is also exchangeable.)\n",
    "* The distribution of $X$ is spherically symmetric\n",
    "* The $q$th quantile of the probability distribution of the data is $x$"
   ]
  },
  {
   "cell_type": "markdown",
   "metadata": {},
   "source": [
    "A common statistical question is to use data to assess whether a statistical hypothesis is true: to _test_ the hypothesis.\n",
    "There is always more than one explanation for any particular set of data, so in general, it is not\n",
    "possible to prove that a (simple) statistical hypothesis is _true_.\n",
    "But the data might provide evidence that a hypothesis is _false_.\n",
    "This is tied to Popper's notion that only hypotheses that can be falsified by evidence (potentially shown to be false) are scientific hypotheses.\n",
    "\n",
    "We speak of \"rejecting\" a hypothesis when there is sufficiently strong evidence that the hypothesis is false.\n",
    "But if data do not cast doubt on a hypothesis, that is not evidence that the hypothesis is true--it is only absense of evidence that the hypothesis is false.\n",
    "Additional evidence might cast doubt on the hypothesis.\n",
    "When we speak (informally) of \"accepting\" a hypothesis, it means only that we did not reject it on the basis of a particular set of data, not that we\n",
    "have affirmative evidence that it is true."
   ]
  },
  {
   "cell_type": "markdown",
   "metadata": {},
   "source": [
    "To test a statistical hypothesis, one specifies a set $A$ of possible data values (before examining the data). \n",
    "If the data fall inside that set, i.e., if $X \\in A$, the null hypothesis is _not rejected_; otherwise, the null hypothesis is _rejected_.\n",
    "Each (measurable) set $A$ implicitly defines a hypothesis test.\n",
    "The set $A$ is called the _acceptance region_ for the test.\n",
    "\n",
    "Sometimes the set $A$ is defined explicitly, but\n",
    "more often it is defined implicitly in terms of a _test statistic_, a function of the data that does not depend on any unknown parameters.\n",
    "\n",
    "For instance an acceptance region for testing the hypothesis that $\\{X_j\\}_{j=1}^n$ are IID $N(0,1)$ might be\n",
    "\\begin{eqnarray*}\n",
    "A := \\left \\{x = \\{x_1, \\ldots, x_n\\}: \\frac{1}{n} \\sum_{j=1}^n x_j \\le \\frac{c}{\\sqrt{n}} \\right \\}.\n",
    "\\end{eqnarray*}\n",
    "In this example, the test statistic is the sample mean, and the region $A$ is the set of all data for which the\n",
    "sample mean does not exceed $c/\\sqrt{n}$."
   ]
  },
  {
   "cell_type": "markdown",
   "metadata": {},
   "source": [
    "### Test functions versus acceptance regions\n",
    "\n",
    "Instead of working with a set $A$, we can work with the indicator function of the set $A$, \n",
    "\\begin{eqnarray*}\n",
    "1_A &:& \\mathcal{X} \\rightarrow \\{0, 1\\} \\\\\n",
    "       && x  \\mapsto \\left \\{ \\begin{array}{ll}\n",
    "                    1, & x \\in A \\\\\n",
    "                    0, & \\mbox{ otherwise. } \n",
    "                    \\end{array} \\right .\n",
    "\\end{eqnarray*}\n",
    "Then we reject the null hypothesis if $1_A(X) = 0$ and do not reject it if $1_A(X) = 1$.\n",
    "\n",
    "This can be generalized by using a _test function_ or _critical function_ $\\phi(\\cdot)$ that take \n",
    "values in $[0,1]$ rather than just $\\{0, 1\\}$, as described below.\n",
    "In that case, when $X=x$, the test rejects the null with probability $\\phi(x)$, i.e.,\n",
    "if $\\phi(X) = 1$, the test certainly rejects the null;\n",
    "if $\\phi(X) = 0$, the test certainly does not reject the null; and if $\\phi(X) = q \\in (0, 1)$,\n",
    "it rejects the null with probability $q$.\n",
    "This is called a _randomized test_, discussed further below."
   ]
  },
  {
   "cell_type": "markdown",
   "metadata": {},
   "source": [
    "### Aside on notation\n",
    "\n",
    "The following all mean the same thing, namely, the probability that the random variable $X$ takes a value in the set $A$ if the distribution of $X$ is $\\mathbb{P}_0$:\n",
    "\n",
    "\\begin{equation*}\n",
    "\\mathbb{P}_0 \\{X \\in A\\},\n",
    "\\end{equation*}\n",
    "\\begin{equation*}\n",
    "\\Pr \\{X \\in A || X \\sim \\mathbb{P}_0 \\},\n",
    "\\end{equation*}\n",
    "and\n",
    "\\begin{equation*}\n",
    "\\Pr_{X \\sim \\mathbb{P}_0} \\{X \\in A\\}.\n",
    "\\end{equation*}\n",
    "\n",
    "\n",
    "For expectations, we use similar notation:\n",
    "\\begin{equation*}\n",
    "\\mathbb{E}_{\\mathbb{P}_0} X,\n",
    "\\end{equation*}\n",
    "\\begin{equation*}\n",
    "\\mathbb{E} (X || X \\sim \\mathbb{P}_0),\n",
    "\\end{equation*}\n",
    "\\begin{equation*}\n",
    "\\mathbb{E}_{X \\sim \\mathbb{P}_0} X,\n",
    "\\end{equation*}\n",
    "and sometimes\n",
    "\\begin{equation*}\n",
    "\\mathbb{E}_0 X\n",
    "\\end{equation*}\n",
    "or even\n",
    "\\begin{equation*}\n",
    "\\mathbb{P}_0 X\n",
    "\\end{equation*}\n"
   ]
  },
  {
   "cell_type": "markdown",
   "metadata": {},
   "source": [
    "## Significance level\n",
    "\n",
    "The _significance level_ of the test $A$ of the simple null hypothesis $X \\sim \\mathbb{P}_0$ is the probability that the test rejects the null hypothesis when the null hypothesis is true:\n",
    "\\begin{equation*}\n",
    "   \\alpha := \\mathbb{P}_0 \\{X \\notin A \\}.\n",
    "\\end{equation*}\n",
    "Because the expected value of an indicator function is the probability of the set, this can be written\n",
    "\\begin{equation*}\n",
    "   \\alpha := 1-\\mathbb{E}_{\\mathbb{P}_0} 1_A(X).\n",
    "\\end{equation*}\n",
    "For a test based on the test function $\\phi: \\mathcal{X} \\rightarrow [0,1]$,\n",
    "the significance level of the simple null hypothesis $X \\sim \\mathbb{P}_0$ is\n",
    "\\begin{equation*}\n",
    "   \\alpha := \\mathbb{E}_{\\mathbb{P}_0} \\phi(X).\n",
    "\\end{equation*}\n",
    "\n",
    "Why is this expression the probability of rejecting the null when the null is true?\n",
    "The test rejects when $U \\le \\phi(X)$.\n",
    "By the law of total expectation (see [Inequalities and Identities](./math-inequalities.ipynb)) and \n",
    "using the fact that $X$ and $U$ are independent,\n",
    "\\begin{equation*}\n",
    "\\mathbb{P}_{0,U} \\{ U \\le \\phi(X)\\} = \n",
    "\\mathbb{E}_{\\mathbb{P}_0, U} 1_{U \\le \\phi(X)} = \n",
    "\\mathbb{E}_{\\mathbb{P}_0} \\mathbb{E}_U (1_{U \\le \\phi(X)} | \\phi(X)) =\n",
    "\\mathbb{E}_{\\mathbb{P}_0} \\phi(X).\n",
    "\\end{equation*}\n",
    "\n",
    "The _significance level_ of the test $A$ of the composite null hypothesis $H_0: X \\sim \\mathbb{P} \\in \\mathcal{P}_0$ is\n",
    "\\begin{equation*}\n",
    "   \\alpha := \\sup_{\\mathbb{P} \\in \\mathcal{P}_0} \\mathbb{P} \\{X \\notin A \\}.\n",
    "\\end{equation*}\n",
    "That is, it is the largest probability that the test rejects the null hypothesis when the null hypothesis is true.\n",
    "For a test based on a a test function $\\phi: \\mathcal{X} \\rightarrow [0,1]$,\n",
    "the significance level of the composite null hypothesis $X \\sim \\mathcal{P}_0$ is\n",
    "\\begin{equation*}\n",
    "   \\alpha := \\sup_{\\mathbb{P_0} \\in \\mathcal{P}_0} \\mathbb{E}_{\\mathbb{P}_0} \\phi(X).\n",
    "\\end{equation*}\n",
    "\n",
    "When $\\mathcal{P}_0$ contains only one distribution, the two definitions of significance level coincide."
   ]
  },
  {
   "cell_type": "markdown",
   "metadata": {},
   "source": [
    "## Power\n",
    "\n",
    "The _power_ of the test $A$ against the simple hypothesis $H_1: X \\sim \\mathbb{P}_1$ is \n",
    "\n",
    "\\begin{equation*}\n",
    "  \\beta := \\mathbb{P}_1 \\{X \\notin A \\}\n",
    "\\end{equation*}\n",
    "That is, the power is the chance that the test rejects the null hypothesis $H_0$ when the alternative hypothesis $H_1$ is true.\n",
    "\n",
    "For a test based on a test function $\\phi$, the power is\n",
    "\\begin{equation*}\n",
    "  \\beta := \\mathbb{E}_{\\mathbb{P}_1} \\phi(X).\n",
    "\\end{equation*}\n",
    "\n",
    "The _power_ of the test $A$ against the composite alternative hypothesis $H_1: X \\sim \\mathbb{P} \\in \\mathcal{P}_1$ is\n",
    "\\begin{equation*}\n",
    "   \\beta := \\inf_{\\mathbb{P_1} \\in \\mathcal{P}_1} \\mathbb{P}_1 \\{X \\notin A \\}.\n",
    "\\end{equation*}\n",
    "That is, it is the smallest probability that that the test rejects the null hypothesis when the alternative hypothesis is true.\n",
    "\n",
    "For a test based on a test function $\\phi$, the power is\n",
    "\\begin{equation*}\n",
    "   \\beta := \\inf_{\\mathbb{P_1} \\in \\mathcal{P}_1}\\mathbb{E}_{\\mathbb{P}_1} \\phi(X).\n",
    "\\end{equation*}\n",
    "\n",
    "When the alternative $\\mathcal{P}_1$ contains only one distribution, the two definitions coincide.\n",
    "\n",
    "Power and significance level are the (extremal) probability of the same event--namely, rejecting the null hypothesis--but computed under different assumptions.\n",
    "The power is computed under the assumption that the alternative hypothesis is true; the significance level is computed under the assumption that the null hypothesis is true."
   ]
  },
  {
   "cell_type": "markdown",
   "metadata": {},
   "source": [
    "Seminal work by Jerzy Neyman (the founder of Berkeley's Department of Statistics) and Egon Pearson showed how to find the most powerful test of a simple null hypothesis against a simple alternative hypothesis among all tests with a given significance level. They showed that the most powerful test had an acceptance region characterized by the likelihood ratio; see below."
   ]
  },
  {
   "cell_type": "markdown",
   "metadata": {},
   "source": [
    "## Type I and Type II errors\n",
    "\n",
    "A type I error occurs when a test rejects the null hypothesis but the null hypothesis is true.\n",
    "The chance of a type I error is the significance level of the test.\n",
    "\n",
    "\n",
    "A type II error occurs when a test does not reject the null hypothesis the null hypothesis is false.\n",
    "The chance of a type II error when a particular alternative is true is 100% minus the power of the test\n",
    "against that alternative, i.e., $\\beta$.\n",
    "\n",
    " "
   ]
  },
  {
   "cell_type": "markdown",
   "metadata": {},
   "source": [
    "## Type III errors\n",
    "\n",
    "There are a number of informal definitions of type III errors. \n",
    "\n",
    "One is that a Type III error occurs when a test correctly rejects the null hypothesis \"for the wrong reason.\" For instance, suppose that we test the null hypothesis $X \\sim N(0, 1)$\n",
    "at significance level $\\alpha = 0.05$ by defining $A := \\{x: |x| \\le 1.96\\}$. \n",
    "Suppose that in reality $X \\sim N(-1, 1)$ and we observe $X = 2$. \n",
    "Then we would _correctly_ reject $H_0$, but because $X$ was \"too big,\" while it was much more likely to be \"too small\" since in reality the distribution of $X$ has mean $-1$ instead of $0$. (If, after rejecting $H_0$, we concluded that $\\mathbb{E}X > 0$, that directional conclusion would be wrong.)\n",
    "\n",
    "Similarly, suppose we want to test whether the mean of some finite population is zero from a simple random sample $X = (X_1, \\ldots, X_n)$.\n",
    "We set $A = \\{x \\in \\Re^n : |\\bar{x}| \\le z_\\alpha/\\sqrt{n} \\}$, where $z_\\alpha$ is the $1-\\alpha$ percentage\n",
    "point of the standard normal distribution.\n",
    "This is a significance level $\\alpha$ test of the null hypothesis that $X \\sim N(0, 1)$ from an IID sample, not \n",
    "of the null hypothesis that the population mean is zero from a random sample without replacement.\n",
    "Nonetheless, this incorrect test might correctly reject the null hypothesis.\n",
    "\n",
    "Another informal definition is that a Type III error occurs when one gets the right answer to the wrong question.\n",
    "One example is testing the hypothesis $\\mathbb{E}X=0$ by testing the hypothesis $X \\sim N(0, \\sigma^2)$ when\n",
    "there is no reason to think that $X$ has a normal distribution. Even if the test is performed correctly,\n",
    "it is testing the wrong null.\n",
    "\n",
    "In my experience, the most frequent and pernicious Type III errors involve testing a _statistical hypothesis_ that has little or nothing to do with the _scientific hypothesis_ (aside, perhaps, from having some words in common).\n",
    "*Many* hypothesis tests in applications have this sort of Type III error baked in. \n",
    "Indeed, most analyses of clinical trial data I've seen test a statistical null hypothesis that involves selecting subjects at random from a superpopulation--which did not occur--rather than test a statistical hypothesis based on the randomization of subjects into treatment or control--which actually did occur.\n",
    "\n",
    "It is quite common to base $\\mathbb{P}_0$ on a statistical model that has no connection to the scientific hypothesis and how the data were generated, then to claim that rejecting $\\mathbb{P}_0$ says something about the world. \n",
    "That logic is flawed."
   ]
  },
  {
   "cell_type": "markdown",
   "metadata": {},
   "source": [
    "### Randomized tests\n",
    "\n",
    "Sometimes it is useful for a hypothesis test to depend not only on the data but also on \"auxilliary\" randomness, typically a $U[0, 1]$ variable $U$ that is independent of the data $X$. \n",
    "Then the acceptance region $A$ is a subset of the Cartesian product of the data space and $[0, 1]$. \n",
    "The null hypothesis is not rejected if $(X, U) \\in A$; otherwise it is rejected.\n",
    "\n",
    "Randomized tests arise in a number of situations, including tests involving discrete distributions.\n",
    "Randomized tests are also useful for proving theorems about tests. \n",
    "For instance, _the Neyman-Pearson lemma_ shows that the most powerful test of a simple null hypothesis $X \\sim \\mathbb{P}_0$ against a simple alternative hypothesis $X \\sim \\mathbb{P}_1$ at significance level $\\alpha$ is\n",
    "a randomized test of the form:\n",
    "\n",
    "\\begin{equation*}\n",
    "A = \\{ (x, u): \\mathcal{L}_0(x)/\\mathcal{L}_1(x) > c \\} \\cup \\{ (x, u): (\\mathcal{L}_0(x)/\\mathcal{L}_1(x) = c) \\mbox{ and }\n",
    "  (u \\le d) \\}\n",
    "\\end{equation*}\n",
    "for suitable choices of $c$ and $d$,\n",
    "where $\\mathcal{L}_j(x)$ is the likelihood of hypothesis $j$ for data $x$. \n",
    "(This assumes $\\mathbb{P}_0$ and $\\mathbb{P}_1$ are _absolutely continuous_ with respect to each other.)\n",
    "For a definition of the likelihood function, see [Bayesian and Frequentist Estimation and Inference](./bayes.ipynb).\n",
    "\n",
    "A test based on a test function $\\phi: \\mathcal{X} \\rightarrow [0, 1]$ is implicitly\n",
    "a randomized test if $\\phi$ can have a value strictly between 0 and 1.\n",
    "Then, we also use an auxilliary randomness, $U \\sim U[0,1]$ and reject the null\n",
    "if $U \\le \\phi(X)$.\n",
    "This is completely equivalent to the description above, but instead of thinking\n",
    "in terms of a _set_ $A \\subset \\mathcal{X} \\times [0, 1]$, we think of a _function_\n",
    "$\\phi: \\mathcal{X} \\rightarrow [0, 1]$.\n",
    "In both formulations, we use $X$ and $U$ to decide whether to reject $H_0$."
   ]
  },
  {
   "cell_type": "markdown",
   "metadata": {},
   "source": [
    "## $P$-values\n",
    "\n",
    "Here are two approaches to defining $P$-values, in terms of families of hypothesis tests and in terms of a test statistic.\n",
    "\n",
    "Family of tests:\n",
    "+ Suppose you have a set of nested (monotone) hypothesis tests:\n",
    "\n",
    "    - $\\{A_\\alpha : \\alpha \\in (0, 1] \\}$\n",
    "\n",
    "    - $\\mathbb{P}_0 \\{ X \\notin A_\\alpha \\} \\le \\alpha$ (or more generally, $\\mathbb{P} \\{ X \\notin A_\\alpha \\} \\le \\alpha, \\; \\forall \\mathbb{P} \\in \\mathcal{P}_0$)\n",
    "\n",
    "    - $A_\\alpha \\subset A_\\beta$ if $\\beta < \\alpha$ (Can always re-define $A_\\alpha \\leftarrow \\cup_{\\beta \\ge \\alpha } A_\\beta$)\n",
    "    \n",
    "+ If we observe $X = x$, the $P$-value is $\\sup \\{ \\alpha: x \\in A_\\alpha \\}$.\n"
   ]
  },
  {
   "cell_type": "markdown",
   "metadata": {},
   "source": [
    "Test statistic definition of a $P$-value:\n",
    "\n",
    "If $P = P(X)$ is a random variable whose probability distribution is _dominated_ by the uniform distribution on $[0, 1]$ when\n",
    "the null hypothesis is true, then $P$ is a $P$-value.\n",
    "\n",
    "That is, $P$ is a $P$-value if\n",
    "\\begin{equation*}  \n",
    " \\mathbb{P}_0 \\{ P(X) \\le x \\} \\le x \\;\\; \\forall x \\in [0, 1].\n",
    "\\end{equation*}\n",
    "\n",
    "You may hear someone say that a $P$-value is the chance that a test statistic is \"as extreme or more extreme than\n",
    "observed.\"\n",
    "That is not really a precise mathematical definition; moreover, not every $P$-value can be expressed naturally\n",
    "in that form and not everything of that form is a $P$-value.\n",
    "\n",
    "For randomized tests expressed in terms of acceptance regions, $P(X, U)$ is a $P$-value if\n",
    "\\begin{equation*}  \n",
    " \\mathbb{P}_0 \\{ P(X,U) \\le x \\} \\le x \\;\\; \\forall x \\in [0, 1].\n",
    "\\end{equation*}"
   ]
  },
  {
   "cell_type": "markdown",
   "metadata": {},
   "source": [
    "## The $Z$-test\n",
    "\n",
    "A $Z$-test tests the hypothesis that some function of the data has a standard Normal distribution, that is,\n",
    "the hypothesis that for some given test statistic $f(x)$, $f(X) \\sim N(0,1)$.\n",
    "\n",
    "What kinds of things have a standard normal distribution?\n",
    "\n",
    "+ A random draw from a population that has a standard normal distribution.\n",
    "+ The sample mean of $n$ IID draws from a population that has a standard normal distribution, after multiplying the sample mean by $\\sqrt{n}$.\n",
    "+ The sample mean of $n$ IID draws from a population that has a $N(\\mu, \\sigma^2)$ distribution, after subtracting $\\mu$ and multiplying by $\\sqrt{n}/\\sigma$.\n",
    "\n",
    "The $Z$-test is often used as an _approximate_ test rather than an _exact_ test. \n",
    "An _approximate_ test is one that has approximately its nominal significance level.  \n",
    "What kinds of things have distributions that are approximately standard normal?\n",
    "\n",
    "+ Things that have a Binomial$(n, p)$ distribution, after subtracting $np$ and dividing by $\\sqrt{np(1-p)}$, provided $np$ and $n(1-p)$ are not small. For instance, consider tossing a fair coin 100 times, independently. The number $X$ of heads has a Binomial$(100, 1/2)$ distribution. The distribution of $(X-50)/5$ is approximately a standard normal. ($np(1-p) = 100\\times 1/2 \\times 1/2$, so $\\sqrt{np(1-p)} = 5$.)\n",
    "+ The sample mean of $n$ IID draws with replacement from a finite population of numbers, after subtracting the population mean $\\mu$ and dividing by $\\sigma/\\sqrt{n}$, where $\\sigma$ is the population standard deviation, provided $n$ is sufficiently large and the population distribution is sufficiently \"bell shaped.\" If nothing is known about the population, it is in general impossible to know how accurate the normal approximation to the sample mean is.\n",
    "(The Binomial distribution is a special case where the population values are known to be 0 and 1.)\n",
    "\n",
    "When the test statistic is only approximately normally distributed under the null hypothesis, the accuracy\n",
    "of the approximation matters--but is rarely addressed.\n",
    "\n",
    "### Example of an approximate $Z$-test with a built-in Type III error\n",
    "\n",
    "There are two binary populations, $\\{x_j\\}_{j=1}^n$ and $\\{y_j\\}_{j=1}^m$. (A population is _binary_ if the only possible values in the population are 0 and 1.)\n",
    "We are interested in whether the populations are \"surprisingly different.\"\n",
    "The null hypothesis is that the two populations were formed by selecting $n$ items at random from the overall group of $n+m$ items to form the first population, with the remaining $m$ items comprising the second population.\n",
    "\n",
    "Let $\\bar{x} := \\frac{1}{n} \\sum_j x_j$ and $\\bar{y} := \\frac{1}{m} y_j$.\n",
    "If $x$ and $y$ were independent random samples with replacement from the same binary \"super-population\" that had a fraction $p$ of\n",
    "1s and a fraction $(1-p)$ of zeros,\n",
    "$n\\bar{x}$ would be a random variable with a binomial distribution with parameters $n$ and $p$, and $m\\bar{y}$ would \n",
    "be a random variable with\n",
    "a binomial distribution with parameters $m$ and $p$, and would be independent of $n\\bar{x}$.\n",
    "\n",
    "The expected value of $\\bar{x}$ would be $p$ and its variance would be $p(1-p)/n$;\n",
    "the expected value of $\\bar{y}$ would be $p$ and its variance would be $p(1-p)/m$.\n",
    "The expected value of $\\bar{x} - \\bar{y}$ would be 0, and its variance would be $p(1-p)(1/n+1/m)$.\n",
    "Moreover, if $x$ and $y$ were random samples with replacement from the same binary super-population,\n",
    "$\\hat{p} = (n\\bar{x} + m\\bar{y})/(n+m)$ would be an unbiased estimate of $p$,\n",
    "and for sufficiently large $m$ and $n$, the distribution of \n",
    "\\begin{equation*}\n",
    "f(x,y) := \\frac{\\bar{x} - \\bar{y}}{\\sqrt{\\hat{p}(1-\\hat{p})(1/n+1/m)}}\n",
    "\\end{equation*}\n",
    "would be approximately $N(0,1)$. \n",
    "(The accuracy of the approximation would depend on $n$, $m$, and $p$.)\n",
    "\n",
    "If we define the acceptance region $A := \\{ x, y: |f(x, y)| \\le z_{\\alpha/2}$, where $z_\\alpha$ is the $1-\\alpha$ \n",
    "percentage point of the standard normal distribution, we get a (two-sided) $Z$ test at nominal significance\n",
    "level $\\alpha$.\n",
    "\n",
    "But this is an approximate test of a different hypothesis: an approximate answer to a different question,\n",
    "a Type III error.\n",
    "The hypothesis test has little to do with the original hypothesis.\n",
    "The true significance level of the test for the original null hypothesis that the two groups are a random partition\n",
    "of the $n+m$ items could be quite different from $\\alpha$."
   ]
  },
  {
   "cell_type": "markdown",
   "metadata": {},
   "source": [
    "### Numerical example\n",
    "\n",
    "There are two binary populations, $\\{x_j\\}_{j=1}^N$ and $\\{ y_j\\}_{j=1}^M$. \n",
    "Let $p_x$ denote the mean of the first population and $p_y$ the mean of the second.\n",
    "We wish to know whether $p_x = p_y$.\n",
    "\n",
    "A random sample with replacement of size $n = 100$ will be drawn from the first list and a random sample with replacement of size $m = 300$ will be drawn from the second list, independent of the other sample.\n",
    "Let $X$ denote the sum of the numbers in the sample from the first population and let $Y$ denote the sum of the numbers in the sample from the second population.\n",
    "Then $X \\sim \\mbox{Binom}(n, p_x)$, $Y \\sim \\mbox{Binom}(m, p_y)$, and $X$ and $Y$ are independent.\n",
    "\n",
    "(An equivalent problem is that there are two coins, one with chance $p_x$ of landing heads and one with chance $p_y$ of landing heads. The first coin is tossed $n$ times and the second coin is tossed $m$ times.\n",
    "All $m+n$ tosses are independent. Let $X$ be the number of times the first coin lands heads and let $Y$\n",
    "denote the number of times the second coin lands heads.)\n",
    "\n",
    "If $p_x = p_y = p$, $X+Y \\sim \\mbox{Binom}(n+m, p)$ and $\\hat{p} := (X+Y)/(n+m)$ is an unbiased estimate of $p$ with standard deviation $\\sqrt{p(1-p)/(m+n)} \\le 1/(2 \\sqrt{m+n}) = 0.025$.\n",
    "\n",
    "Let $\\bar{X} := X/n$ and $\\bar{Y} := Y/m$.\n",
    "If $p_x = p_y = p$ and $p$ is not close to 0 or 1, then the distribution of $\\bar{X}$ is approximately Gaussian\n",
    "with mean $p$ and standard deviation $\\sqrt{p(1-p)/n}$ and the distribution of $\\bar{Y}$ is approximately Gaussian\n",
    "with mean $p$ and standard deviation $\\sqrt{p(1-p)/m}$, and $\\bar{X}$ and $\\bar{Y}$ are independent.\n",
    "\n",
    "It follows that the distribution of $\\bar{X}-\\bar{Y}$ is approximately Gaussian with mean $p-p = 0$ and standard deviation \n",
    "\\begin{eqnarray*}\n",
    "\\sigma := \\sqrt{p(1-p)/n + p(1-p)/m} = \\sqrt{p(1-p)}\\sqrt{1/n + 1/m} \\le 0.0577.\n",
    "\\end{eqnarray*}\n",
    "Thus the distribution of \n",
    "\\begin{equation*}\n",
    "\\frac{\\bar{X} - \\bar{Y}}{\\sqrt{p(1-p)}\\sqrt{1/n + 1/m}}\n",
    "\\end{equation*}\n",
    "is approximately the standard normal.\n",
    "If we use the \"plug-in\" estimator of $p$, $\\hat{p}$, the distribution is also approximately normal (but the accuracy of the approximation is, in general, worse). \n",
    "Thus the distribution of\n",
    "\\begin{equation*}\n",
    "Z := \\frac{\\bar{X} - \\bar{Y}}{\\sqrt{\\hat{p}(1-\\hat{p})}\\sqrt{1/n + 1/m}}\n",
    "\\end{equation*}\n",
    "is approximately $N(0,1)$ if $p_x = p_y$.\n",
    "\n",
    "Note that if $p$ is close to 0 or to 1, $\\hat{p}$ could end up equal to 0 or 1, in which case the denominator will\n",
    "vanish (clearly underestimating the standard deviation of $\\bar{X}-\\bar{Y}$).\n",
    "\n",
    "To perform a $Z$ test, we pretend that the distribution of $Z$ is exactly the standard normal.\n",
    "If $p_x > p_y$, we expect $\\bar{X} > \\bar{Y}$ and hence $Z > 0$. If $p_x < p_y$, we expect $\\bar{X} < \\bar{Y}$ and hence $Z < 0$.\n",
    "If we want the test to have power against both the possibility that $p_x > p_y$ and the possibility that $p_x < p_y$, we would design the test to reject when $|Z|$ is large.\n",
    "To test at (approximate) level $\\alpha$, we would reject with $|Z| > z_{1-\\alpha/2}$, the $1-\\alpha/2$ quantile of the standard normal distribution."
   ]
  },
  {
   "cell_type": "code",
   "execution_count": 1,
   "metadata": {},
   "outputs": [
    {
     "name": "stdout",
     "output_type": "stream",
     "text": [
      "max SD of alpha-hat: 0.0005\n"
     ]
    },
    {
     "name": "stderr",
     "output_type": "stream",
     "text": [
      "/opt/anaconda3/lib/python3.7/site-packages/ipykernel_launcher.py:52: RuntimeWarning: invalid value encountered in double_scalars\n"
     ]
    },
    {
     "name": "stdout",
     "output_type": "stream",
     "text": [
      "p=0.01 estimated alpha=0.033563\n",
      "p=0.05 estimated alpha=0.039816\n",
      "p=0.1 estimated alpha=0.049005\n",
      "p=0.3 estimated alpha=0.050683\n",
      "p=0.4 estimated alpha=0.052481\n",
      "p=0.5 estimated alpha=0.057022\n",
      "p=0.6 estimated alpha=0.052372\n",
      "p=0.7 estimated alpha=0.050798\n",
      "p=0.9 estimated alpha=0.049088\n",
      "p=0.95 estimated alpha=0.039562\n",
      "p=0.99 estimated alpha=0.03344\n"
     ]
    }
   ],
   "source": [
    "# simulating the significance level of the Z-test\n",
    "import math\n",
    "import numpy as np\n",
    "import scipy as sp\n",
    "import matplotlib.pyplot as plt\n",
    "\n",
    "from scipy.stats import norm # the normal distribution\n",
    "from numpy.random import default_rng, binomial  # this is the Mersenne Twister; there's much to consider in picking a PRNG.\n",
    "rng = default_rng(1592592021)   # set the seed for reproducibility\n",
    "\n",
    "alpha = 0.05 # significance level 5%\n",
    "z_c = norm.ppf(1-alpha/2)  # normal quantile, critical value for the test\n",
    "\n",
    "p = [.01, .05, .1, .3, .4, .5, .6, .7, .9, .95, .99]  # assortment of values for p\n",
    "\n",
    "reps = int(10**6)\n",
    "n = 50  \n",
    "m = 100 \n",
    "\n",
    "def absZ(n: int, m: int, x: float, y: float) -> float:\n",
    "    '''\n",
    "    absolute value of the Z statistic for the difference in sample sums from two binary populations\n",
    "    \n",
    "    Used in a Z test of the hypothesis that x and y are the sample sums of IID draws from binary\n",
    "    populations with the same (unspecified) population fraction of 1s against the alternative\n",
    "    hypothesis that the two population fractions differ.\n",
    "    \n",
    "    When the population percentages are close to 0 or 1, the sample percentages can be 0 or 1,\n",
    "    in which case the estimated variance will be zero. In that situation, return -inf or inf, \n",
    "    as appropriate.\n",
    "    \n",
    "    Parameters\n",
    "    ----------\n",
    "    n : int\n",
    "        sample size from first population\n",
    "    m : int\n",
    "        sample size from second population\n",
    "    x : float\n",
    "        sample sum of the draws from the first population\n",
    "    y : float\n",
    "        sample sum of the draws from the second population\n",
    "        \n",
    "    Returns\n",
    "    -------\n",
    "    z : float\n",
    "        absolute value of the Z statistic\n",
    "        \n",
    "    '''\n",
    "    pHat = (x+y)/(n+m)\n",
    "    return (abs((x/n - y/m)/math.sqrt(pHat*(1-pHat)*(1/n + 1/m)))\n",
    "           if pHat*(1-pHat) > 0\n",
    "           else np.inf*np.sign(x/n - y/m))\n",
    "\n",
    "# how precise should we expect the result to be?\n",
    "print('max SD of alpha-hat: {}'.format((1/(2*math.sqrt(reps)))))  # max SD of a binomial is 1/2\n",
    "\n",
    "for pj in p:\n",
    "    reject = 0\n",
    "    for i in range(reps):\n",
    "        X = rng.binomial(n, pj) # simulate X\n",
    "        Y = rng.binomial(m, pj) # simulate Y. X and Y could be simulated together but the code would be less clear\n",
    "        reject += (1 \n",
    "                  if absZ(n,m,X,Y) > z_c\n",
    "                  else 0)\n",
    "    print('p={} estimated alpha={}'.format(pj, reject/reps))\n",
    "\n"
   ]
  },
  {
   "cell_type": "markdown",
   "metadata": {},
   "source": [
    "As you can see, the simulation estimate of the actual significance level differs from the nominal significance level, 5%, by more than simulation variability accounts for: the test is only approximate, and the accuracy of the approximation depends on the true value of $p$. The actual significance level is below 5% when the true $p$ is near 0 or 1, and above 5% when the true $p$ is near 1/2."
   ]
  },
  {
   "cell_type": "markdown",
   "metadata": {},
   "source": [
    "Now let's look at the distribution of approximate $P$-values for (a one-sided version of) this test. \n",
    "If $Z$ really had a standard normal distribution, then for $z \\ge 0$,\n",
    "\\begin{equation*}\n",
    "\\Pr \\{|Z| \\le z \\} = 1 - 2\\Phi(-z) =  2\\Phi(z) - 1,\n",
    "\\end{equation*}\n",
    "where $\\Phi$ is the standard normal CDF.\n",
    "Let $x := 2\\Phi(z) - 1$.\n",
    "Then \n",
    "\\begin{equation*}\n",
    "x = \\Pr \\{ |Z| \\le \\Phi^{-1}((x+1)/2) \\}\n",
    "\\end{equation*}\n",
    "\\begin{equation*}\n",
    " = \\Pr \\{ \\Phi(|Z|) \\le (x+1)/2 \\}\n",
    "\\end{equation*}\n",
    "\\begin{equation*}\n",
    " = \\Pr \\{ 2\\Phi(|Z|)-1 \\le x \\}.\n",
    "\\end{equation*}\n",
    "Thus $2\\Phi(|Z|)-1$ would have a uniform distribution: it would be a $P$-value.\n",
    "\n",
    "Let's check whether that's true."
   ]
  },
  {
   "cell_type": "code",
   "execution_count": 2,
   "metadata": {},
   "outputs": [
    {
     "data": {
      "text/plain": [
       "(array([136995.,  89683.,  86794.,  82063.,  78132., 139366.,  60161.,\n",
       "        136581.,  95286.,  94939.]),\n",
       " array([0.        , 0.09999988, 0.19999976, 0.29999964, 0.39999952,\n",
       "        0.49999939, 0.59999927, 0.69999915, 0.79999903, 0.89999891,\n",
       "        0.99999879]),\n",
       " <BarContainer object of 10 artists>)"
      ]
     },
     "execution_count": 2,
     "metadata": {},
     "output_type": "execute_result"
    },
    {
     "data": {
      "image/png": "[encoded data removed]",
      "text/plain": [
       "<Figure size 432x288 with 1 Axes>"
      ]
     },
     "metadata": {
      "needs_background": "light"
     },
     "output_type": "display_data"
    }
   ],
   "source": [
    "reps = int(10**6)\n",
    "n = 50\n",
    "m = 100\n",
    "p = 0.5  # one of the worst offenders\n",
    "\n",
    "x = np.zeros(reps)\n",
    "for i in range(reps):\n",
    "    X = rng.binomial(n, p) # simulate X\n",
    "    Y = rng.binomial(m, p) # simulate Y\n",
    "    x[i] = 2*norm.cdf(absZ(n,m,X,Y)) - 1\n",
    "    \n",
    "plt.hist(x)"
   ]
  },
  {
   "cell_type": "code",
   "execution_count": 3,
   "metadata": {
    "scrolled": true
   },
   "outputs": [
    {
     "data": {
      "image/png": "[encoded data removed]",
      "text/plain": [
       "<Figure size 432x288 with 1 Axes>"
      ]
     },
     "metadata": {
      "needs_background": "light"
     },
     "output_type": "display_data"
    }
   ],
   "source": [
    "y = np.linspace(0,1,num=500)\n",
    "cumul = np.array([np.sum(x <= yi) for yi in y])/reps  # simulated CDF\n",
    "\n",
    "plt.plot(y, cumul)\n",
    "plt.plot([0,1],[0,1])\n",
    "plt.title('Simulated distribution of nominal $P$ value for $P$={}'.format(p))\n",
    "plt.show()"
   ]
  },
  {
   "cell_type": "markdown",
   "metadata": {},
   "source": [
    "The (simulated) distribution is not dominated by the uniform."
   ]
  },
  {
   "cell_type": "code",
   "execution_count": 4,
   "metadata": {},
   "outputs": [
    {
     "name": "stderr",
     "output_type": "stream",
     "text": [
      "/opt/anaconda3/lib/python3.7/site-packages/ipykernel_launcher.py:52: RuntimeWarning: invalid value encountered in double_scalars\n"
     ]
    },
    {
     "data": {
      "text/plain": [
       "(array([5.78410e+04, 1.00000e+00, 2.34340e+04, 1.13167e+05, 4.68700e+03,\n",
       "        2.37444e+05, 1.13710e+05, 6.48320e+04, 1.24849e+05, 3.86530e+04]),\n",
       " array([0.        , 0.0999593 , 0.19991861, 0.29987791, 0.39983722,\n",
       "        0.49979652, 0.59975583, 0.69971513, 0.79967444, 0.89963374,\n",
       "        0.99959305]),\n",
       " <BarContainer object of 10 artists>)"
      ]
     },
     "execution_count": 4,
     "metadata": {},
     "output_type": "execute_result"
    },
    {
     "data": {
      "image/png": "[encoded data removed]",
      "text/plain": [
       "<Figure size 432x288 with 1 Axes>"
      ]
     },
     "metadata": {
      "needs_background": "light"
     },
     "output_type": "display_data"
    }
   ],
   "source": [
    "reps = int(10**6)\n",
    "n = 50\n",
    "m = 100\n",
    "p = 0.01  # one of the worst offenders\n",
    "\n",
    "x = np.zeros(reps)\n",
    "for i in range(reps):\n",
    "    X = rng.binomial(n, p) # simulate X\n",
    "    Y = rng.binomial(m, p) # simulate Y\n",
    "    x[i] = 2*norm.cdf(absZ(n,m,X,Y)) - 1\n",
    "    \n",
    "plt.hist(x)"
   ]
  },
  {
   "cell_type": "code",
   "execution_count": 5,
   "metadata": {
    "scrolled": true
   },
   "outputs": [
    {
     "data": {
      "image/png": "[encoded data removed]",
      "text/plain": [
       "<Figure size 432x288 with 1 Axes>"
      ]
     },
     "metadata": {
      "needs_background": "light"
     },
     "output_type": "display_data"
    }
   ],
   "source": [
    "y = np.linspace(0,1,num=500)\n",
    "cumul = np.array([np.sum(x <= yi) for yi in y])/reps  # simulated CDF\n",
    "\n",
    "plt.plot(y, cumul)\n",
    "plt.plot([0,1],[0,1])\n",
    "plt.title('Simulated distribution of nominal $P$ value for $P$={}'.format(p))\n",
    "plt.show()"
   ]
  },
  {
   "cell_type": "markdown",
   "metadata": {},
   "source": [
    "Again, the (simulated) distribution is not dominated by the uniform. The _nominal_ $P$-value based on treating the $Z$-statistic as if it had a standard normal distribution is not an _actual_ $P$-value for this problem."
   ]
  },
  {
   "cell_type": "markdown",
   "metadata": {},
   "source": [
    "### An exact conditional test based on invariance: permutation methods\n",
    "\n",
    "We now explore a different approach that yields an exact test rather than approximate test.\n",
    "\n",
    "Let $N := n+m$.\n",
    "Let $I_1, \\ldots, I_n$ be the values of the draws from the first population and $I_{n+1}, \\ldots, I_N$ be\n",
    "the values of the draws from the second population. \n",
    "Because the draws are all independent, $\\{I_j\\}$ are independent random variables with a Bernoulli distribution. \n",
    "If $p_x = p_y$, they are identically distributed also.\n",
    "\n",
    "Define the random vector $I := (I_j)_{j=1}^N$.\n",
    "Let $\\pi$ be a permutation of $1, 2, \\ldots, N$.\n",
    "(That is, $\\pi = (\\pi_1, \\ldots, \\pi_N)$ is a vector of length $N$ in which every number between $1$ and $N$ appears exactly once.)\n",
    "Define the vector $I_\\pi := (I_{\\pi_j})_{j=1}^N$. \n",
    "This vector has the same components as $I$, but in a different order (unless $\\pi$ is the identity permutation).\n",
    "Because the draws are IID, the joint probability distribution of this permutation of the draws is\n",
    "the same as the joint probability distribution of the original draws: the components of $I$ are _exchangeable_\n",
    "random variables if the null hypothesis is true.\n",
    "\n",
    "Equivalently, let $z$ be a vector of length $N$.\n",
    "Then $\\mathbb{P}_0 \\{I = z \\} = \\mathbb{P}_0 \\{I = z_\\pi \\}$ for all $N!$ permutations $\\pi$.\n",
    "Whatever vector of values $z$ was actually observed, if the null hypothesis is true, all permutations of those values\n",
    "were equally likely to have been observed instead.\n",
    "In turn, that implies that all $\\binom{N}{n}$ multisubsets of size $n$ of the $n+m$ components of $z$ \n",
    "were equally likely to be the sample from the first population (with the other $m$ values \n",
    "comprising the sample from the second population).\n",
    "\n",
    "Let $\\{z\\}$ denote the _multiset_ of elements of $x$. \n",
    "(See, e.g., [Mathematical Foundations](./math-foundations.ipynb)\n",
    "for the distinction between a set and a multiset.)\n",
    "Consider the event that $\\{I\\} = \\{z\\}$, that is, that the multiset of observed data is equal to the multiset of\n",
    "elements of $z$.\n",
    "Then\n",
    "\\begin{equation*}\n",
    "  \\mathbb{P}_0(I = z_\\pi | \\{I\\} = \\{z\\}) = \\mathbb{P}_0(I = z | \\{I\\} = \\{z\\})\n",
    "\\end{equation*}\n",
    "for all permutations $\\pi$ of $\\{1, \\ldots, n+m\\}$.\n",
    "\n",
    "It follows that the sample from the first population is equally likely to be any multisubset of $n$ of the \n",
    "$n+m$ elements of the pooled sample, given the elements of the pooled sample.\n",
    "That is, the conditional probability distribution of the sample from the first population is like that of a simple random sample of size $n$ from the $N$ elements of the pooled sample, given the elements of the pooled sample.\n",
    "\n",
    "The pooled sample in this example consists of $G = \\sum_{j=1}^N I_j$ 1s and $N-G$ 0s.\n",
    "Given $G$, the conditional distribution of the number of 1s in the sample from the first population is hypergeometric with parameters $N=N$ (population size), $G=G$ (number of \"good\" items in the population), and $n=n$ (sample size from the population).\n",
    "Recall that $X$ is the sum of the draws from the first population and $Y$ is the sum of the draws from the second\n",
    "population.\n",
    "We have\n",
    "\\begin{equation*}\n",
    "\\mathbb{P}_0 \\{ X = k | G=g \\} = \\left \\{ \\begin{array}{ll}\n",
    "   \\frac{\\binom{g}{k}\\binom{N-g}{n-k}}{\\binom{N}{n}}, & \\max(0, g-m) \\le k \\le \\min(n,g) \\\\\n",
    "   0, & \\mbox{otherwise.}\n",
    "   \\end{array}\n",
    "   \\right .\n",
    "\\end{equation*}\n",
    "Moreover, given $G$, $X$ and $Y$ are dependent, since $X+Y = G$.\n",
    "\n",
    "We can base a (conditional) test of the hypothesis $p_0 = p_1$ on the conditional\n",
    "hypergeometric distribution of $X$.\n",
    "Because the hypergeometric is discrete, for some values of $n$, $m$, $G$, and $\\alpha$ we will need a randomized\n",
    "test $A=A_{\\alpha;g}(\\cdot, \\cdot)$ to attain exactly level $\\alpha$.\n",
    "\n",
    "What shall we use as the acceptance region?\n",
    "To have power against the alternative that $p_x > p_y$ and the alternative $p_x < p_y$, we should\n",
    "reject if $X$ is \"too small\" or if $X$ is \"too big.\" \n",
    "There are any number of ways we could trade off small and big.\n",
    "For instance, we could make the acceptance region $A = A_{\\alpha;g}(x,u)$ nearly symmetric around \n",
    "$\\mathbb{E}(X|G) = nG/N$.\n",
    "Or we could make the chance of rejecting when $X$ is too small equal to the chance of rejecting when $X$ is too big.\n",
    "\n",
    "We will do something else: pick the acceptance region to include\n",
    "as few values in $\\{0, \\ldots, n\\}$ as possible.\n",
    "That means omitting from $A$ the possible values of $X$ that have the lowest (conditional) probabilities.\n",
    "Because the hypergeometric distribution is unimodal, this yelds a test that rejects when $X$ is \"in the tails\" of the hypergeometric distribution, as desired.\n",
    "Let $\\mathcal{K}$ denote the largest subset of $\\{0, \\ldots, n\\}$ such that \n",
    "\\begin{equation*}\n",
    "\\mathbb{P}_0 \\{X \\in \\mathcal{K} | G=g \\} < \\alpha,\n",
    "\\end{equation*}\n",
    "\n",
    "Define\n",
    "\\begin{equation*}\n",
    "\\mathcal{J} := \\arg \\min_{j \\notin \\mathcal{K}} \\mathbb{P}_0 \\{ X = j | G=g \\}\n",
    "\\end{equation*}\n",
    "be the outcome or outcomes with smallest (conditional) probability not included in $\\mathcal{K}$,\n",
    "and let \n",
    "\\begin{equation*}\n",
    "\\mathcal{I} := \\{0, \\ldots, n\\} \\setminus (\\mathcal{K} \\cup \\mathcal{J}).\n",
    "\\end{equation*}\n",
    "Let \n",
    "\\begin{equation*}\n",
    "\\gamma := \\frac{(1-\\alpha) - \\mathbb{P}_0 \\{X \\in \\mathcal{I} | G=g \\}}{\\mathbb{P}_0 \\{X \\in \\mathcal{J} |G=g\\}}\n",
    "\\end{equation*}\n",
    "be the fraction of the conditional probability of $\\mathcal{J}$ that needs to be added to the \n",
    "conditional probability of $\\mathcal{I}$ to make\n",
    "the conditional probability of their union equal $1-\\alpha$.\n",
    "Define the acceptance region \n",
    "\\begin{equation*}\n",
    "A_{\\alpha; g} = \\{ (x,u) \\in \\mathcal{I} \\times [0,1] \\} \\cup \\{ (x, u): x \\in \\mathcal{J} \\mbox{ and } u \\le \\gamma \\}.\n",
    "\\end{equation*}\n",
    "Let $U$ be a $U[0,1]$ random variable independent of $X$.\n",
    "Then\n",
    "\\begin{equation*}\n",
    "\\mathbb{P}_0 \\{ (X, U) \\in A_{\\alpha; g} | G=g \\} = 1-\\alpha.\n",
    "\\end{equation*}\n",
    "That is, $A$ is an acceptance region for a test of the null hypothesis with conditional significance level $\\alpha$. \n",
    "\n",
    "Conditioning on $G$ eliminates the nuisance parameter $p$, the fraction of ones in the two populations\n",
    "from which the sample was drawn: whatever $p$ might be, and whatever the fraction of ones in the sample, every random sample of $n$ of the $n+m$ observations is equally likely to have been the sample from the first population, if the null hypothesis is true.\n",
    "See [Introduction to Permutation Tests](./permute-intro.ipynb).\n",
    "\n",
    "This test, in a slightly different form, is called _Fisher's Exact Test_.\n",
    "It is useful for a wide range of problems, including clinical trials and A/B testing."
   ]
  },
  {
   "cell_type": "markdown",
   "metadata": {},
   "source": [
    "### Illustration\n",
    "\n",
    "To visualize what's going on, suppose $n=m=10$ and $G=5$. Under the null, the conditional distribution of $X$ given $G=5$ is hypergeometric with parameters $N=n+m=20$, $G=5$, and $n=10$.\n",
    "The pmf of that distribution is plotted below."
   ]
  },
  {
   "cell_type": "code",
   "execution_count": 6,
   "metadata": {},
   "outputs": [
    {
     "data": {
      "image/png": "[encoded data removed]",
      "text/plain": [
       "<Figure size 432x288 with 1 Axes>"
      ]
     },
     "metadata": {
      "needs_background": "light"
     },
     "output_type": "display_data"
    },
    {
     "name": "stdout",
     "output_type": "stream",
     "text": [
      "pmf: [(0, 0.016253869969040196), (1, 0.13544891640866824), (2, 0.34829721362229055), (3, 0.34829721362229055), (4, 0.13544891640866824), (5, 0.016253869969040196), (6, 0.0), (7, 0.0), (8, 0.0), (9, 0.0), (10, 0.0)]\n"
     ]
    }
   ],
   "source": [
    "from scipy.stats import hypergeom # the hypergeometric distribution\n",
    "n=10\n",
    "m=10\n",
    "N=n+m\n",
    "G=5\n",
    "x = np.arange(0,n+1)\n",
    "\n",
    "pmf = hypergeom.pmf(x,N,G,n)\n",
    "\n",
    "fig = plt.figure()\n",
    "ax = fig.add_subplot(111)\n",
    "ax.vlines(x, 0, pmf, lw=4)\n",
    "ax.set_xlabel('outcomes')\n",
    "ax.set_ylabel('hypergeometric pmf')\n",
    "plt.show()\n",
    "print('pmf: {}'.format(list(zip(x,pmf))))"
   ]
  },
  {
   "cell_type": "code",
   "execution_count": 7,
   "metadata": {},
   "outputs": [
    {
     "data": {
      "text/plain": [
       "0.0645714285714292"
      ]
     },
     "execution_count": 7,
     "metadata": {},
     "output_type": "execute_result"
    }
   ],
   "source": [
    "# probability of rejecting when X \\in {1, 5} to get overall level 0.05\n",
    "alpha = 0.05\n",
    "(alpha-(pmf[0]+pmf[5]))/(pmf[1]+pmf[4])"
   ]
  },
  {
   "cell_type": "markdown",
   "metadata": {},
   "source": [
    "To construct the acceptance region for a level $\\alpha = 0.05$ test, first notice that $\\mathbb{P}_0\\{X > 5 | G=5\\} = 0$, so the outcomes 6, 7, ..., 10 should be outside $\\mathcal{I}$.\n",
    "\n",
    "$\\mathbb{P}_0\\{X = 0 | G=5\\} = \\mathbb{P}_0\\{X = 5 | G=5\\} = 0.01625$, so if we exclude those outcomes from $\\mathcal{I}$, the chance of rejecting the null is $2 \\times 0.01625387 = 0.032508$.\n",
    "For the test to have level $\\alpha$, we need to reject more often: an additional $0.017492$ of the time.\n",
    "If we always rejected when $X=1$ or $X=4$, we would reject too often, because each of those possibilities has probability $0.13545$. \n",
    "If when $X \\in \\{1, 4\\}$ we reject with probability $\\gamma = .01749/(2\\times 0.13545) = 0.06457$, the overall chance of erroneously rejecting the null will be 5%, as desired."
   ]
  },
  {
   "cell_type": "markdown",
   "metadata": {},
   "source": [
    "### Unconditional tests from conditional tests\n",
    "\n",
    "If you always test conditionally at level not greater than $\\alpha$, that yields a test that has unconditional level not greater than $\\alpha$, as we shall see.\n",
    "\n",
    "Suppose we condition on the value of a discrete random variable, such as $G$ in the previous example, then test at level not greater than $\\alpha$, conditional on the value of $G$.\n",
    "The unconditional significance level of the test is\n",
    "\\begin{equation*}\n",
    "\\mathbb{P}_0 \\{\\mbox{reject null}\\} =\n",
    "\\sum_g \\mathbb{P}_0 \\{ \\mbox{reject null} | G=g \\} \\mathbb{P}_0 \\{G=g\\}\n",
    "\\le \\sum_g \\alpha \\mathbb{P}_0 \\{G=g\\} = \\alpha \\sum_g \\mathbb{P}_0 \\{G=g\\} = \\alpha,\n",
    "\\end{equation*}\n",
    "where the sums are over all values $g$ that $G$ can take.\n",
    "\n",
    "A similar proof establishes the result when $G$ does not have a discrete distribution."
   ]
  },
  {
   "cell_type": "markdown",
   "metadata": {},
   "source": [
    "### Numerical comparison\n",
    "\n",
    "We saw that the $Z$-test does not necessarily have its nominal level in this problem. \n",
    "We now implement the permutation test (a randomized version of Fisher's exact test) for comparison."
   ]
  },
  {
   "cell_type": "markdown",
   "metadata": {},
   "source": [
    "### Algorithmic considerations\n",
    "\n",
    "#### Finding $\\mathcal{I}$ and $\\mathcal{J}$\n",
    "\n",
    "In principle, we could sort the $n+1$ values of the pmf to find the outcomes with the largest probabilities to include in $\\mathcal{I}$, and the largest-probability outcomes not included in $\\mathcal{I}$ to be $\\mathcal{J}$ (if the test needs to be randomized to attain the desired significance level).\n",
    "\n",
    "But the best sorting algorithms still take $n\\log n$ operations, and we don't need a complete sort--we only need to divide the probabilities into two groups, the biggest and the rest.\n",
    "\n",
    "However, because the hypergeomtric distribution is unimodal, the smallest probability will either be $\\mathbb{P}_0 \\{X = 0\\}$ or $\\mathbb{P}_0 \\{X = n\\}$ (or they will be equal). \n",
    "After removing that outcome from consideration, the second-smallest probability will be either that of the largest remaining outcome or the smallest remaining outcome, etc. This means we can identify the outcomes to include in $\\mathcal{I}$ with a number of operations that is linear in $n$."
   ]
  },
  {
   "cell_type": "code",
   "execution_count": 8,
   "metadata": {},
   "outputs": [],
   "source": [
    "# simulate the significance level of the permutation test\n",
    "def fisher_accept(N: int, G: int, n: int, alpha: float=0.05) -> tuple:\n",
    "    '''\n",
    "    Acceptance region for randomized hypergeometric test\n",
    "    \n",
    "    Find the acceptance region for a randomized, exact level alpha test of \n",
    "    the null hypothesis X~Hypergeometric(N, G, n). The acceptance region is\n",
    "    the smallest possible. (And not, for instance, symmetric.)\n",
    "\n",
    "    If a non-randomized, conservative test is desired, use the union of I and J \n",
    "    as the acceptance region.\n",
    "\n",
    "    Parameters\n",
    "    ----------\n",
    "    N:  integer\n",
    "        population size\n",
    "    G:  integer\n",
    "        number of \"good\" items in the population\n",
    "    n:  integer\n",
    "        sample size\n",
    "    alpha : float\n",
    "        desired significance level    \n",
    "  \n",
    "    Returns\n",
    "    --------\n",
    "    I:  list\n",
    "        observed values for which the test never rejects\n",
    "    J:  list \n",
    "        observed values for which the test sometimes rejects\n",
    "    gamma : float\n",
    "        probability the test does not reject when the observed value is in J\n",
    "    '''\n",
    "    x = np.arange(0, n+1)\n",
    "    I = list(x)                    # start with all possible outcomes, then remove some\n",
    "    pmf = hypergeom.pmf(x,N,G,n)   # hypergeometric pmf\n",
    "    bottom = 0                     # smallest outcome still in I\n",
    "    top = n                        # largest outcome still in I\n",
    "    J = []                         # outcomes for which the test is randomized\n",
    "    p_J = 0                        # probability of the outcomes for which test is randomized\n",
    "    p_tail = 0                     # probability of outcomes not in I\n",
    "    while p_tail < alpha:          # still need to remove outcomes from the acceptance region\n",
    "        pb = pmf[bottom]\n",
    "        pt = pmf[top]\n",
    "        if pb < pt:                # the smaller possibility has smaller probability\n",
    "            J = [bottom]\n",
    "            p_J = pb\n",
    "            bottom += 1\n",
    "        elif pb > pt:              # the larger possibility has smaller probability\n",
    "            J = [top]\n",
    "            p_J = pt\n",
    "            top -= 1\n",
    "        else:                      \n",
    "            if bottom < top:       # the two possibilities have equal probability\n",
    "                J = [bottom, top]\n",
    "                p_J = pb+pt\n",
    "                bottom += 1\n",
    "                top -= 1\n",
    "            else:                  # there is only one possibility left\n",
    "                J = [bottom]\n",
    "                p_J = pb\n",
    "                bottom +=1\n",
    "        p_tail += p_J\n",
    "        for j in J:\n",
    "            I.remove(j)\n",
    "    gamma = (p_tail-alpha)/p_J     # probability of accepting H_0 when X in J to get \n",
    "                                   # exact level alpha\n",
    "    return I, J, gamma\n",
    "        \n",
    "    \n",
    "def apply_test(A, x, U):\n",
    "    '''\n",
    "    Apply a randomized test A to data x using auxiliary uniform randomness U\n",
    "    \n",
    "    Parameters\n",
    "    ----------\n",
    "    A:  triple\n",
    "        first element is a list or set, the values of x for which the test never rejects\n",
    "        second element is a list or set, the values of x for which the test sometimes rejects\n",
    "        third element is a float in [0, 1], the probability of rejecting when x is in the second element\n",
    "    x:  number-like\n",
    "        observed data\n",
    "    U:  float in [0, 1]\n",
    "        observed value of an independent U[0,1] random variable\n",
    "    Returns\n",
    "    -------\n",
    "    reject: Boolean\n",
    "        True if the test rejects\n",
    "    '''\n",
    "    assert 0 <= A[2] < 1, 'probability out of range:{}'.format(A[2])\n",
    "    assert 0 <= U <= 1, 'uniform variable out of range:{}'.format(U)\n",
    "    return not(x in A[0] or (x in A[1] and U <= A[2]))"
   ]
  },
  {
   "cell_type": "code",
   "execution_count": 9,
   "metadata": {},
   "outputs": [],
   "source": [
    "# Exercise: write unit tests of the two functions."
   ]
  },
  {
   "cell_type": "code",
   "execution_count": 10,
   "metadata": {},
   "outputs": [
    {
     "name": "stdout",
     "output_type": "stream",
     "text": [
      "max SD of p-hat: 0.0005\n"
     ]
    }
   ],
   "source": [
    "# set up the simulations\n",
    "alpha = 0.05 # significance level 5%\n",
    "p = [.01, .05, .1, .3, .4, .5, .6, .7, .9, .95, .99]  # assortment of values for p\n",
    "\n",
    "reps = int(10**6)\n",
    "n = 50\n",
    "m = 100\n",
    "N = n+m\n",
    "\n",
    "# how precise should we expect the result to be?\n",
    "print('max SD of p-hat: {}'.format((1/(2*math.sqrt(reps)))))  # max SD of a binomial is 1/2"
   ]
  },
  {
   "cell_type": "code",
   "execution_count": 11,
   "metadata": {},
   "outputs": [
    {
     "name": "stdout",
     "output_type": "stream",
     "text": [
      "p=0.01 estimated alpha=0.05001\n",
      "p=0.05 estimated alpha=0.049823\n",
      "p=0.1 estimated alpha=0.050227\n",
      "p=0.3 estimated alpha=0.049927\n",
      "p=0.4 estimated alpha=0.050298\n",
      "p=0.5 estimated alpha=0.049955\n",
      "p=0.6 estimated alpha=0.049959\n",
      "p=0.7 estimated alpha=0.049856\n",
      "p=0.9 estimated alpha=0.049854\n",
      "p=0.95 estimated alpha=0.050085\n",
      "p=0.99 estimated alpha=0.049817\n",
      "CPU times: user 47min 31s, sys: 15.4 s, total: 47min 46s\n",
      "Wall time: 47min 56s\n"
     ]
    }
   ],
   "source": [
    "%%time\n",
    "# brute force: re-compute the test for each replication\n",
    "for pj in p:\n",
    "    reject = 0\n",
    "    for i in range(reps):\n",
    "        X = rng.binomial(n, pj) # simulate X\n",
    "        Y = rng.binomial(m, pj) # simulate Y\n",
    "        A = fisher_accept(N, X+Y, n, alpha=alpha)\n",
    "        reject += (1 if apply_test(A, X, rng.uniform())\n",
    "                   else 0)\n",
    "    print('p={} estimated alpha={}'.format(pj, reject/reps))"
   ]
  },
  {
   "cell_type": "markdown",
   "metadata": {},
   "source": [
    "This test has true significance level equal to its nominal significance level: it is an _exact_ test rather than an _approximate_ test.\n",
    "\n",
    "Randomized tests have some drawbacks in practice.\n",
    "For instance, it would be hard to explain to a consulting client or a judge that for a given set of data, the test you\n",
    "propose to use sometimes\n",
    "rejects the null hypothesis and sometimes does not, depending on a random factor ($U$) that has nothing to do \n",
    "with the data or the experiment.\n",
    "\n",
    "In such situations, it might make sense to use a _conservative_ test rather than an exact randomized test.\n",
    "A conservative test is one for which the chance of a Type I error is not greater than $\\alpha$.\n",
    "In the previous example, if the test rejects only when the test "
   ]
  },
  {
   "cell_type": "markdown",
   "metadata": {},
   "source": [
    "### Algorithmic considerations\n",
    "\n",
    "The previous simulation is **slow**, in part because it finds the conditional acceptance region \n",
    "`reps` times for each `pj in p`.\n",
    "\n",
    "But there are relatively few possible acceptance regions, one for each possible value of $G$, i.e., $n+m+1$.\n",
    "\n",
    "What happens if we pre-compute the acceptance regions for all possible values of $G$, and look them up as needed?"
   ]
  },
  {
   "cell_type": "code",
   "execution_count": 12,
   "metadata": {},
   "outputs": [
    {
     "name": "stdout",
     "output_type": "stream",
     "text": [
      "p=0.01 estimated alpha=0.050358\n",
      "p=0.05 estimated alpha=0.050045\n",
      "p=0.1 estimated alpha=0.049983\n",
      "p=0.3 estimated alpha=0.050171\n",
      "p=0.4 estimated alpha=0.05002\n",
      "p=0.5 estimated alpha=0.049699\n",
      "p=0.6 estimated alpha=0.049793\n",
      "p=0.7 estimated alpha=0.049458\n",
      "p=0.9 estimated alpha=0.049673\n",
      "p=0.95 estimated alpha=0.050049\n",
      "p=0.99 estimated alpha=0.050015\n",
      "CPU times: user 1min 17s, sys: 295 ms, total: 1min 18s\n",
      "Wall time: 1min 18s\n"
     ]
    }
   ],
   "source": [
    "%%time\n",
    "# Smarter approach: pre-compute the tests. There are only n+m+1 possible tests, far fewer than reps\n",
    "# Include the \"cost\" of precomputing the tests in the comparison.\n",
    "\n",
    "AA = []\n",
    "for j in range(N+1):\n",
    "    AA.append(fisher_accept(N, j, n, alpha=alpha))\n",
    "\n",
    "for pj in p:\n",
    "    reject = 0\n",
    "    for i in range(reps):\n",
    "        X = rng.binomial(n, pj) # simulate X\n",
    "        Y = rng.binomial(m, pj) # simulate Y\n",
    "        reject += (1 \n",
    "                   if apply_test(AA[X+Y], X, rng.uniform()) \n",
    "                   else 0)\n",
    "    print('p={} estimated alpha={}'.format(pj, reject/reps))"
   ]
  },
  {
   "cell_type": "markdown",
   "metadata": {},
   "source": [
    "This easy change speeds up the simulation by a factor of more than 40.\n",
    "\n",
    "Alternatively, we can use the `functools` library to automatically cache the acceptance regions as they are computed.\n",
    "\n",
    "Here's the acceptance region function with the `@lru_cache` decorator:"
   ]
  },
  {
   "cell_type": "code",
   "execution_count": 13,
   "metadata": {},
   "outputs": [],
   "source": [
    "from functools import lru_cache\n",
    "\n",
    "@lru_cache(maxsize=None)  # decorate the function to cache the results of calls to the function\n",
    "def fisher_accept(N, G, n, alpha=0.05):\n",
    "    '''\n",
    "    Acceptance region for randomized hypergeometric test\n",
    "    \n",
    "    Find the acceptance region for a randomized, exact level alpha test of \n",
    "    the null hypothesis X~Hypergeometric(N, G, n). The acceptance region is\n",
    "    the smallest possible. (And not, for instance, symmetric.)\n",
    "\n",
    "    If a non-randomized, conservative test is desired, use the union of I and J as \n",
    "    the acceptance region.\n",
    "\n",
    "    Parameters\n",
    "    ----------\n",
    "    N:  integer\n",
    "        population size\n",
    "    G:  integer\n",
    "        number of \"good\" items in the population\n",
    "    n:  integer\n",
    "        sample size\n",
    "    alpha : float\n",
    "        desired significance level    \n",
    "  \n",
    "    Returns\n",
    "    --------\n",
    "    I:  list\n",
    "        values for which the test never rejects\n",
    "    J:  list \n",
    "        values for which the test sometimes rejects\n",
    "    gamma : float\n",
    "        probability the test does not reject when the value is in J\n",
    "    '''\n",
    "    x = np.arange(0, n+1)          # all possible values of X\n",
    "    I = list(x)                    # start with all possible outcomes, then remove some\n",
    "    pmf = hypergeom.pmf(x,N,G,n)   # hypergeometric pmf\n",
    "    bottom = 0                     # smallest outcome still in I\n",
    "    top = n                        # largest outcome still in I\n",
    "    J = []                         # outcome for which the test is randomized\n",
    "    p_J = 0                        # probability of the randomized outcome\n",
    "    p_tail = 0                     # probability of outcomes excluded from I\n",
    "    while p_tail < alpha:          # still need to remove outcomes from the acceptance region\n",
    "        pb = pmf[bottom]\n",
    "        pt = pmf[top]\n",
    "        if pb < pt:                # the lower possibility has smaller probability\n",
    "            J = [bottom]\n",
    "            p_J = pb\n",
    "            bottom += 1\n",
    "        elif pb > pt:              # the upper possibility has smaller probability\n",
    "            J = [top]\n",
    "            p_J = pt\n",
    "            top -= 1\n",
    "        else:                      \n",
    "            if bottom < top:       # the two possibilities have equal probability\n",
    "                J = [bottom, top]\n",
    "                p_J = pb+pt\n",
    "                bottom += 1\n",
    "                top -= 1\n",
    "            else:                  # there is only one possibility left\n",
    "                J = [bottom]\n",
    "                p_J = pb\n",
    "                bottom +=1\n",
    "        p_tail += p_J\n",
    "        for j in J:\n",
    "            I.remove(j)\n",
    "    gamma = (p_tail-alpha)/p_J     # probability of accepting H_0 when X in J to get exact level alpha\n",
    "    return I, J, gamma"
   ]
  },
  {
   "cell_type": "code",
   "execution_count": 14,
   "metadata": {},
   "outputs": [
    {
     "name": "stdout",
     "output_type": "stream",
     "text": [
      "p=0.01 estimated alpha=0.050092\n",
      "p=0.05 estimated alpha=0.050045\n",
      "p=0.1 estimated alpha=0.049978\n",
      "p=0.3 estimated alpha=0.050282\n",
      "p=0.4 estimated alpha=0.050424\n",
      "p=0.5 estimated alpha=0.049985\n",
      "p=0.6 estimated alpha=0.050117\n",
      "p=0.7 estimated alpha=0.049918\n",
      "p=0.9 estimated alpha=0.049929\n",
      "p=0.95 estimated alpha=0.050044\n",
      "p=0.99 estimated alpha=0.0501\n",
      "CPU times: user 1min 21s, sys: 329 ms, total: 1min 21s\n",
      "Wall time: 1min 22s\n"
     ]
    }
   ],
   "source": [
    "%%time\n",
    "# re-run the original \"brute-force\" code but with function caching\n",
    "for pj in p:\n",
    "    reject = 0\n",
    "    for i in range(reps):\n",
    "        X = rng.binomial(n, pj) # simulate X\n",
    "        Y = rng.binomial(m, pj) # simulate Y\n",
    "        A = fisher_accept(N, X+Y, n, alpha=alpha)\n",
    "        reject += (1 if apply_test(A, X, rng.uniform())\n",
    "                   else 0)\n",
    "    print('p={} estimated alpha={}'.format(pj, reject/reps))"
   ]
  },
  {
   "cell_type": "markdown",
   "metadata": {},
   "source": [
    "Again, this speeds up the simulation by a factor of more than 40, with even less coding effort. "
   ]
  },
  {
   "cell_type": "code",
   "execution_count": 15,
   "metadata": {},
   "outputs": [],
   "source": [
    "# Exercise: How would you find a $P$-value for this test?"
   ]
  },
  {
   "cell_type": "code",
   "execution_count": null,
   "metadata": {},
   "outputs": [],
   "source": []
  }
 ],
 "metadata": {
  "kernelspec": {
   "display_name": "Python 3 (ipykernel)",
   "language": "python",
   "name": "python3"
  },
  "language_info": {
   "codemirror_mode": {
    "name": "ipython",
    "version": 3
   },
   "file_extension": ".py",
   "mimetype": "text/x-python",
   "name": "python",
   "nbconvert_exporter": "python",
   "pygments_lexer": "ipython3",
   "version": "3.10.4"
  }
 },
 "nbformat": 4,
 "nbformat_minor": 4
}
