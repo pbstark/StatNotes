{
 "cells": [
  {
   "cell_type": "markdown",
   "id": "23e27f36-e7b5-424d-90aa-fa45c1201377",
   "metadata": {},
   "source": [
    "# Betting supermartingale tests: selecting the bets"
   ]
  },
  {
   "cell_type": "markdown",
   "id": "e38ed8ce-172c-46d6-b85a-a3e7e77998c1",
   "metadata": {},
   "source": [
    "See  [Waudby-Smith and Ramdas (2021)](https://arxiv.org/pdf/2006.04347.pdf) and [Stark (2023)](https://projecteuclid.org/journals/annals-of-applied-statistics/volume-17/issue-1/ALPHA-Audit-that-learns-from-previously-hand-audited-ballots/10.1214/22-AOAS1646.short)\n",
    "\n",
    "\n",
    "We have a stochastic process $(X_j)_{j \\in \\mathbb{N}}$ such that with probability 1, $0 \\le X_j \\le u_j$.\n",
    "The distribution of the process is indexed by a parameter $\\theta$.\n",
    "We want to make inferences about $\\theta$.\n",
    "\n",
    "The chapter on [martingales](./martingales.ipynb) introduced betting martingales of the form:\n",
    "$T_0 :=1$ and\n",
    "\\begin{equation}\n",
    "T_j := T_{j-1} (1 + \\lambda_j (X_j - \\mu_j)),\n",
    "\\end{equation}\n",
    "where $\\lambda_j \\in  (−u_j/(u_j − \\mu_j), 1/\\mu_j)$ and $(\\lambda_j)_{j \\in \\mathbb{N}}$ is predictable.\n",
    "\n",
    "It also introduced the ALPHA martingales, which are products of terms of the form\n",
    "\\begin{eqnarray}\n",
    "\\frac{X_j}{\\mu_j} \\cdot \\frac{\\eta_j-\\mu_j}{u_j-\\mu_j} + \\frac{u_j-\\eta_j}{u_j-\\mu_j} &=&\n",
    "1 + \\frac{\\eta_j/\\mu_j - 1}{u_j-\\mu_j} (X_j - \\mu_j),\n",
    "\\end{eqnarray}\n",
    "which is of the form $(1 + \\lambda_j (X_j - \\mu_j))$ with $\\lambda_j = \\frac{\\eta_j/\\mu_j - 1}{u_j-\\mu_j}$.\n",
    "\n",
    "This chapter addresses how to choose $\\lambda_j$ or, equivalently, $\\eta_j$.\n",
    "\n",
    "The motivation for the ALPHA martingales was the SPRT for the Bernoulli parameter $p$.\n",
    "Among all tests with a given significance level, the SPRT has the smallest expected sample size\n",
    "to reject the (point) null when the (point) alternative is true.\n",
    "In the Bernoulli SPRT, $u=1$, $\\mu_j = \\mu$ is the fixed null value of $p$,\n",
    "and $\\eta_j = \\eta$ is the fixed alternative value of the Bernoulli $p$.\n",
    "\n",
    "In general, how should we pick $\\eta_j$ or $\\lambda_j$?\n",
    "The ALPHA approach suggests thinking of $\\eta_j$ as an estimate of the true value of $p$ (analogous to the true\n",
    "population mean, if we relax the binary restriction).\n",
    "What makes an estimator \"good\" in this context might not be having low bias and variance. Indeed, we shall see\n",
    "that using biased estimates can produce more powerful tests.\n",
    "\n",
    "Recall the view of $(T_j)$ as a gambler's fortune.\n",
    "The value of $\\lambda_j$ is related to the fraction of the current \"fortune\" the gambler decides to risk on the next outcome.\n",
    "We can reject the null if and when $T_j \\ge 1/\\alpha$, so to reject the null, we want the fortune to grow.\n",
    "That suggests we think of choosing $\\lambda_j$ to maximize our fortune, in some sense.\n",
    "Let's investigate that point of view."
   ]
  },
  {
   "cell_type": "markdown",
   "id": "1d24a42f-6136-4176-9e64-98914d8f6a85",
   "metadata": {},
   "source": [
    "## The Kelly Criterion\n",
    "\n",
    "Consider bets on a binary outcome, like tosses of a coin. Suppose that the tosses are independent Bernoulli($p$),\n",
    "and for the moment, assume that $p > 1/2$ is known.\n",
    "You have $1 to bet.\n",
    "\n",
    "Suppose you are only allowed to bet once. How much should you bet to maximize your expected wealth?\n",
    "\n",
    "Let $\n",
    "\n",
    "Suppose you are allowed to bet arbitrarily many times (unless you go broke).\n",
    "How should you bet to maximize your fortune?\n",
    "(See [this study](https://papers.ssrn.com/sol3/papers.cfm?abstract_id=2856963) for how some financial experts\n",
    "bet.)\n",
    "\n",
    "If you were "
   ]
  },
  {
   "cell_type": "markdown",
   "id": "cc92aff1-797f-48d6-8959-d3cf50204a97",
   "metadata": {},
   "source": [
    "## The Kelly Criterion yields the Bernoulli SPRT\n",
    "\n"
   ]
  },
  {
   "cell_type": "markdown",
   "id": "de6a7493-f2cf-47ae-baa9-908f06294a81",
   "metadata": {},
   "source": [
    "## Kelly Criterion for bounded, nonbinary outcomes\n"
   ]
  },
  {
   "cell_type": "markdown",
   "id": "472e5982-7b65-4786-9938-7b975b299376",
   "metadata": {},
   "source": [
    "## What if you don't know the true mean?\n",
    "\n",
    "The Kelly criterion so far is called _a priori Kelly_ by Waudby-Smith and Ramdas, because it requires knowing the true\n",
    "distribution before starting."
   ]
  },
  {
   "cell_type": "markdown",
   "id": "6a9ff4e9-9574-4945-87d1-7b5dcf78b60e",
   "metadata": {},
   "source": [
    "## Plug-in approximate Kelly"
   ]
  },
  {
   "cell_type": "markdown",
   "id": "0a8a401f-f554-4c63-b175-c97ba36aada3",
   "metadata": {},
   "source": [
    "## ALPHA using an estimate of the population mean\n",
    "\n",
    "Election audits: use the reported results as the alternative.\n",
    "\n",
    "Use data too: Truncated shrinkage estimator.\n",
    "\n",
    "Bayes estimate.\n",
    "\n",
    "Fixed alternative:"
   ]
  }
 ],
 "metadata": {
  "kernelspec": {
   "display_name": "Python 3 (ipykernel)",
   "language": "python",
   "name": "python3"
  },
  "language_info": {
   "codemirror_mode": {
    "name": "ipython",
    "version": 3
   },
   "file_extension": ".py",
   "mimetype": "text/x-python",
   "name": "python",
   "nbconvert_exporter": "python",
   "pygments_lexer": "ipython3",
   "version": "3.10.4"
  }
 },
 "nbformat": 4,
 "nbformat_minor": 5
}
