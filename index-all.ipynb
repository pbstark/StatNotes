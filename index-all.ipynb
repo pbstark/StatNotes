{
 "cells": [
  {
   "cell_type": "markdown",
   "metadata": {},
   "source": [
    "# An Idiosyncratic Sample of Applied Statistics"
   ]
  },
  {
   "cell_type": "markdown",
   "metadata": {},
   "source": [
    "+ [Mathematical Foundations](./math-foundations.ipynb)\n",
    "+ [Inequalities and Identities](./math-inequalities.ipynb)\n",
    "+ [Linear Algebra Primer](./linalg.ipynb)\n",
    "+ [Probability Foundations](./prob.ipynb)\n",
    "+ [Sets, Combinatorics, and Probability](./setsCombinatorics.ipynb)\n",
    "+ [Theories of Probability](./probTheory.ipynb)\n",
    "+ [Probability, Random Vectors, and the Multivariate Normal Distribution](./probVectors.ipynb)\n",
    "+ [Hypothesis tests, stratified tests](./tests.ipynb)\n",
    "+ [Combining tests](./tests-combo.ipynb)\n",
    "+ [E-values](./E-values.ipynb)\n",
    "+ [Confidence sets](./confidence-sets.ipynb)\n",
    "+ [Inference when there are nuisance parameters](./nuisance.ipynb)\n",
    "+ [Causal inference](./causal-inference.ipynb)\n",
    "+ [Fisher's exact test](../fisher-exact.ipynb)\n",
    "+ [Models, response schedules, and estimators](./models.ipynb)\n",
    "+ [Pseudo-random numbers, integers, samples, and permutations](./prngs.ipynb)\n",
    "+ [Introduction to election auditing and the Kaplan-Markov Inequality](./audit.ipynb)\n",
    "+ [Confidence bounds for the mean of finite populations](./canonical.ipynb)\n",
    "    - [The Normal approximation and bootstrap percentile intervals](./normApprox.ipynb)\n",
    "    - [Duality between testing and confidence sets](./duality.ipynb)\n",
    "    - [Confidence sets derived from the Binomial](./binom.ipynb)\n",
    "    - [Lower confidence bounds for the mean via Markov's Inequality and methods based on the Empirical Distribution](./markov.ipynb)\n",
    "    - [Confidence bounds via the Chebychev and Hoeffding Inequalities](./hoeffding.ipynb)\n",
    "    - [Wald's Sequential Probability Ratio Test (SPRT)](./sprt.ipynb)\n",
    "    - [The SPRT for sampling without replacement](./pSPRTNoReplacement.ipynb)\n",
    "    - [The SPRT with nuisance parameters](./SPRTNuisance.ipynb)\n",
    "    - [The Kaplan-Wald confidence bound](./kaplanWald.ipynb)\n",
    "    - [Dollar-Unit Sampling and taint](./dus.ipynb)\n",
    "    - [Penny sampling](./pennySampling.ipynb)\n",
    "    - [Method shootout](./shootout.ipynb)\n",
    "+ [Tests based on martingales and supermartingales](./martingales.ipynb)\n",
    "    - [Tests based on betting martingales: choosing the bet](./betting-martingales.ipynb)\n",
    "+ [Introduction to permutation tests; application to gender bias in teaching evaluations](./permute-intro.ipynb)\n",
    "+ [Classical permutation tests based on ranks](./permute-classical.ipynb)\n",
    "+ [Tests of randomness and independence](./permute-independence.ipynb)\n",
    "+ [Simulating randomization for permutation tests](./permute-prng.ipynb)\n",
    "+ [Simulated $P$-values are exact $P$-values for randomized tests](./permute-simulate-p.ipynb)\n",
    "+ [Abstract permutation tests using projections](./permute-distance.ipynb)\n",
    "+ [Statistical inference](./inference.ipynb)\n",
    "+ [Bayesian and Frequentist Estimation and Inference](./bayes.ipynb)\n",
    "+ [Resampling methods](./bootstrap.ipynb)\n",
    "+ [Goodness of Fit Tests](./goodness_of_fit.ipynb)\n",
    "+ [Models of Pandemics](./pandemic.ipynb)\n",
    "+ [Election Audits](./election_audits.ipynb)\n",
    "+ [The Child Online Protection Act and Internet Content Filtering: nonparametric confidence intervals for porn](./copa.ipynb)\n",
    "+ [Where's the beef? Transmissible Spongiform Encephalopathy and U.S. imports of Canadian cattle](https://www.stat.berkeley.edu/~stark/SticiGui/Text/bse.htm)\n",
    "+ [The EM algorithm](./em.ipynb) (incomplete)\n",
    "+ [P-values, Probability, Priors, Rabbits, Quantifauxcation, and Cargo-Cult Statistics](./rabbits.ipynb)"
   ]
  },
  {
   "cell_type": "code",
   "execution_count": null,
   "metadata": {
    "collapsed": true,
    "jupyter": {
     "outputs_hidden": true
    }
   },
   "outputs": [],
   "source": []
  }
 ],
 "metadata": {
  "kernelspec": {
   "display_name": "Python 3 (ipykernel)",
   "language": "python",
   "name": "python3"
  },
  "language_info": {
   "codemirror_mode": {
    "name": "ipython",
    "version": 3
   },
   "file_extension": ".py",
   "mimetype": "text/x-python",
   "name": "python",
   "nbconvert_exporter": "python",
   "pygments_lexer": "ipython3",
   "version": "3.10.4"
  }
 },
 "nbformat": 4,
 "nbformat_minor": 4
}
