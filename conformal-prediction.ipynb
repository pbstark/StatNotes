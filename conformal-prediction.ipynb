{
 "cells": [
  {
   "cell_type": "markdown",
   "id": "9a6cea41-9c51-4c33-80df-72737d5226ac",
   "metadata": {},
   "source": [
    "# Conformal Prediction"
   ]
  },
  {
   "cell_type": "markdown",
   "id": "1daebce1-2399-484d-a9fd-d78883d0c1bf",
   "metadata": {},
   "source": [
    "Core reference: Shafer and Vovk, 2008. A Tutorial on Conformal Prediction, _Journal of Machine Learning Research, 9_, 371-421.\n",
    "\n",
    "Basic problem set up: we observe items sequentially. Each item has a label, $y$, which could be numerical or categorical.\n",
    "There is some black-box model that makes a prediction $\\hat{y}$ of the value of $y$ for the next item, \n",
    "generally using side information $x$ (e.g., covariates).\n",
    "The predictor can \"learn\" from previous cases: it does not have to stay the same over time.\n",
    "After each prediction $\\hat{y}$ is made, the true label $y$ is revealed.\n",
    "Thus,  $(x_1, y_1), \\ldots, (x_{n−1}, y_{n−1})$ and $x_n$ are available to predict $y_n$.\n",
    "\n",
    "The problem is: given an acceptable error probability $\\epsilon$, construct a \"prediction region\" $\\Gamma^\\epsilon$ of labels that contains the label of the next item with probability at least $1-\\epsilon$.\n",
    "\n",
    "The basic assumption of conformal prediction is that the cases are _exchangeable_, which is true if they are IID. \n",
    "(There has been work on weakening that assumption: see, e.g., Foygel, R.B., E.J. Candes, A. Ramdas, and R.J. Tibshirani, 2022.  Conformal prediction beyond exchangeability, https://arxiv.org/abs/2202.13415.)\n",
    "\n",
    "Conformal prediction works for any prediction method, though: regression, Bayesian, support-vector machines, neural networks, etc. "
   ]
  },
  {
   "cell_type": "markdown",
   "id": "d5a3e699-1582-48f4-91e2-ca372bfc95ef",
   "metadata": {},
   "source": [
    "Recall [the definition of a _multiset_ or _bag_](./math-foundations.ipynb#Multisets): like a set, it is a collection of things, but unlike a set, it can contain multiple copies of the same thing. It amounts to an unordered list."
   ]
  },
  {
   "cell_type": "code",
   "execution_count": null,
   "id": "3004c1ba-2a73-4878-a834-7e2d96f8d533",
   "metadata": {},
   "outputs": [],
   "source": []
  }
 ],
 "metadata": {
  "kernelspec": {
   "display_name": "Python 3 (ipykernel)",
   "language": "python",
   "name": "python3"
  },
  "language_info": {
   "codemirror_mode": {
    "name": "ipython",
    "version": 3
   },
   "file_extension": ".py",
   "mimetype": "text/x-python",
   "name": "python",
   "nbconvert_exporter": "python",
   "pygments_lexer": "ipython3",
   "version": "3.10.4"
  }
 },
 "nbformat": 4,
 "nbformat_minor": 5
}
