{
 "cells": [
  {
   "cell_type": "markdown",
   "id": "f3de764c-c367-4d6c-963d-122ae0617535",
   "metadata": {
    "user_expressions": []
   },
   "source": [
    "# An Idiosyncratic Sample of Statistics\n",
    "# P.B. Stark\n",
    "## Copyright (c) 2021--2023 by Philip B. Stark\n",
    "\n",
    "[![Binder](https://mybinder.org/badge_logo.svg)](https://mybinder.org/v2/gh/pbstark/StatNotes/HEAD?labpath=index.ipynb)\n",
    "\n",
    "This repository contains a set of lecture notes and an \"overlay\" course that uses a subset of those notes.\n",
    "There is also material for specific courses taught at the Department of Statistics at UC Berkeley. \n",
    "A fully rendered version of these pages as an interactive textbook is [here](https://pbstark.github.io/StatNotes).\n",
    "\n",
    "The main sets of lecture notes are:\n",
    "- [An Idiosyncratic Sample of Applied Statistics](index-app-stats.ipynb) (full set of notes).\n",
    "- [Nonparametric Statistics](240-spring-2023/index.ipynb) (a subset of the notes organized for a course in nonparametric statistics).\n",
    "\n",
    "## License: [CC-BY-ND 4.0](https://creativecommons.org/licenses/by-nd/4.0/legalcode)."
   ]
  }
 ],
 "metadata": {
  "kernelspec": {
   "display_name": "Python 3 (ipykernel)",
   "language": "python",
   "name": "python3"
  },
  "language_info": {
   "codemirror_mode": {
    "name": "ipython",
    "version": 3
   },
   "file_extension": ".py",
   "mimetype": "text/x-python",
   "name": "python",
   "nbconvert_exporter": "python",
   "pygments_lexer": "ipython3",
   "version": "3.10.4"
  }
 },
 "nbformat": 4,
 "nbformat_minor": 5
}
