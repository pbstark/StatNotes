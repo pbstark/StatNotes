{
 "cells": [
  {
   "cell_type": "markdown",
   "id": "85b6a7c0-ef74-4a84-8065-efe9176d86ca",
   "metadata": {},
   "source": [
    "# $E$-values and Betting Scores\n",
    "\n",
    "Core references: \n",
    "\n",
    "+ Shafer, G., 2021. Testing by betting: A strategy for statistical and scientific communication,\n",
    "_Journal of the Royal Statistical Society Series A: Statistics in Society_, _184_, 407–431, https://doi.org/10.1111/rssa.12647\n",
    "\n",
    "+ Vovk, V., and R. Wang, 2021. E-values: Calibration, combination and applications, _Ann. Statist. 49_ (3) 1736-1754. https://doi.org/10.1214/20-AOS2020\n",
    "\n",
    "+ Lecture notes by V. Vovk. https://www.isibang.ac.in/~statmath/pcm2020/talk1.pdf, https://www.isibang.ac.in/~statmath/pcm2020/talk2.pdf\n",
    "\n",
    "+ Wang, R., and A. Ramdas, 2021. False discovery rate control with e-values, https://arxiv.org/pdf/2009.02824.pdf"
   ]
  },
  {
   "cell_type": "markdown",
   "id": "c7737414-543b-401e-b567-c2fa0f99efc4",
   "metadata": {},
   "source": [
    "$E$-values are a way of quantifying evidence about a statistical hypothesis. \n",
    "They are closely related to $P$-values, but more general in many ways, and possibly easier to understand.\n",
    "In particular (paraphrasing Shafer, 2021):\n",
    "\n",
    "+ $E$-values are like the returns on a bet. Most people know it's possible to win a bet with long odds by having good luck, or by identifying good bets where the payoff odds don't reflect the chance odds. Fewer people understand $P$-values.\n",
    "It's common to think that a small $P$-value means the alternative is true or that the probability that the null is true is small--two common misconceptions.\n",
    "\n",
    "+ Any particular bet implies an alternative hypothesis. The betting score is the likelihood of the alternative\n",
    "divided by the likelihood of the null. Likelihood ratios have intuitive appeal.\n",
    "\n",
    "+ Power calculations involve a fixed significance level, not a $P$-value, so there's no direct analog of power for $P$-values. In contrast, a bet also implies a target: a value for the betting score that might be hoped for if the alternative hypothesis is true. \n",
    "\n",
    "+ The validity of $P$-values generally requires pre-specifying the entire analysis, but betting scores can include deliberate attempts to improve one's \"fortune\" by using all currently available data to inform the next bet.\n",
    "\n",
    "+ For a function to be a $P$-value, its distribution must be dominated by the uniform distribution under the null. For a function to be an $E$-value, all that needs to be true is that it is nonnegative and its expected value is at most 1 under the null. That is generally a much easier condition to guarantee."
   ]
  },
  {
   "cell_type": "markdown",
   "id": "c7b8a496-4587-4b62-a741-4068f89d2945",
   "metadata": {},
   "source": [
    "## Warm-up: hypothesis tests as bets\n",
    "\n",
    "See [hypothesis testing](./tests.ipynb).\n",
    "\n",
    "In the typical setup for hypothesis testing, we observe data $X \\sim \\mathbb{P}$.\n",
    "To test the null hypothesis test $\\mathbb{P} = \\mathbb{P}_0$, we choose a function $\\phi(\\cdot)$ with the property that $\\mathbb{E}_{\\mathbb{P}_0,U}\\phi(X,U) = \\alpha$, where $U$ is an auxilliary uniform random variable\n",
    "independent of $X$, only needed for randomized tests.\n",
    "\n",
    "We reject the hypothesis $\\mathbb{P} = \\mathbb{P}_0$ if $U \\le \\phi(X)$.\n",
    "\n",
    "We can think of $\\phi(X)$ as an \"all-or-nothing\" bet that pays $1/\\alpha$ if $U \\le \\phi(X)$\n",
    "and 0 otherwise. If the null is true, the expected value of the bet is 1.\n",
    "A \"good\" test will have a high expected payoff if the alternative is true.\n",
    "\n",
    "Betting once versus repeated betting.\n",
    "Growth of wealth versus a single chance.\n",
    "\n",
    "Two scenarios:\n",
    "\n",
    "+ bet once in a while, don't reinvest your winnings\n",
    "+ bet whenever you want, reinvest your winnings"
   ]
  },
  {
   "cell_type": "markdown",
   "id": "cd8cd95c-a60b-4c90-bec4-3b317f5b2da4",
   "metadata": {},
   "source": []
  },
  {
   "cell_type": "markdown",
   "id": "8920d2c6-02e0-40c3-bd7f-feb42a8e1471",
   "metadata": {},
   "source": [
    "**Definition.**\n",
    "Let $(\\Omega, \\mathcal{A}, \\mathbb{P})$ be a probability space,\n",
    "and let $E$ be a random variable $E: \\Omega \\rightarrow [0, \\infty]$ such that\n",
    "$\\mathbb{E}_\\mathbb{P}(E) := \\int_{\\mathcal{X}} E d\\mathbb{P} \\le 1$. (Note that $E$ may take the value $\\infty$, which\n",
    "corresponds to the strongest possible evidence that the data do not come from $\\mathbb{P}$.)\n",
    "Then **$E$ is an e-variable for $\\mathbb{P}$.**\n",
    "\n",
    "Let $\\mathcal{P}$ be a collection of probability distributions on the measurable space $(\\Omega, \\mathcal{A})$,\n",
    "and let $E$ be a random variable $E: \\Omega \\rightarrow [0, \\infty]$ such that for all $\\mathbb{P} \\in \\mathcal{P}$,\n",
    "$\\mathbb{E}_\\mathbb{P}(E) := \\int_{\\mathcal{X}} E d\\mathbb{P} \\le 1$.\n",
    "Then **$E$ is an e-variable for $\\mathcal{P}$.**\n",
    "\n",
    "The set of all $E$-variables for a collection $\\mathcal{P}$ of probability distributions is $\\mathcal{E}(\\mathcal{P})$.\n",
    "\n",
    "The observed value of an $E$-variable is an $E$-value (or $e$-value).\n",
    "\n",
    "**Definition.**\n",
    "Let $(\\Omega, \\mathcal{A}, \\mathbb{P})$ be a probability space,\n",
    "and let $P$ be a random variable $P: \\Omega \\rightarrow [0, 1]$ such that\n",
    "$\\forall p \\in [0, 1]$,\n",
    "$\\mathbb{P}(P \\le p) \\le p$.\n",
    "Then **$P$ is a P-variable for $\\mathbb{P}$.**\n",
    "\n",
    "Let $\\mathcal{P}$ be a collection of probability distributions on the measurable space $(\\Omega, \\mathcal{A})$,\n",
    "and let $P$ be a random variable $P: \\Omega \\rightarrow [0, 1]$ such that for all $\\mathbb{P} \\in \\mathcal{P}$,\n",
    "$\\forall p \\in [0, 1]$,\n",
    "$\\mathbb{P}(P \\le p) \\le p$.\n",
    "Then **$P$ is a P-variable for $\\mathcal{P}$.**\n",
    "\n",
    "The set of all $P$-variables for a collection $\\mathcal{P}$ of probability distributions is $\\mathcal{P}(\\mathcal{P})$.\n",
    "\n",
    "\n",
    "The observed value of a $P$-variable is a $P$-value.\n",
    "\n"
   ]
  },
  {
   "cell_type": "markdown",
   "id": "1029036d-a146-4b18-ac35-f0e6afd62e28",
   "metadata": {},
   "source": [
    "**$P$ to $E$ calibration function**\n",
    "\n",
    "Suppose $f : [0, 1] \\rightarrow [0, \\infty]$  is a ($p$-to-$e$) calibrator if, for any probability space \n",
    "$(\\Omega, \\mathcal{A}, \\mathbb{P}) and any $P$-variable $P \\in  \\mathcal{P}_\\mathbb{P}$,\n",
    "$f(P) \\in \\mathcal{E}(\\mathcal{P}) \n",
    "\n",
    "A calibrator $f$ *dominates* a calibrator $g$ if $f \\ge g$; $f$ *strictly dominates* $g$ if $f \\ge g$ and $f \\ne $g$.\n",
    "A calibrator is *admissible* if it is not strictly dominated by any other calibrator.\n",
    "\n",
    "\n",
    "The following proposition says that a calibrator is a nonnegative decreasing\n",
    "function integrating to at most 1 over the uniform probability measure.\n",
    "Proposition 2.2. A decreasing function $f : [0, 1] \\rightarrow [0, ∞]$ is a calibrator if\n",
    "and only if R 1\n",
    "0\n",
    "f ≤ 1. It is admissible if and only if f is upper semicontinuous,\n",
    "f(0) = ∞, and R 1\n",
    "0\n",
    "f = 1."
   ]
  },
  {
   "cell_type": "markdown",
   "id": "28119c24-d418-4b0b-a244-69b29bdab4c9",
   "metadata": {},
   "source": [
    "**$E$ to $P$ calibration function**\n"
   ]
  }
 ],
 "metadata": {
  "kernelspec": {
   "display_name": "Python 3 (ipykernel)",
   "language": "python",
   "name": "python3"
  },
  "language_info": {
   "codemirror_mode": {
    "name": "ipython",
    "version": 3
   },
   "file_extension": ".py",
   "mimetype": "text/x-python",
   "name": "python",
   "nbconvert_exporter": "python",
   "pygments_lexer": "ipython3",
   "version": "3.10.4"
  }
 },
 "nbformat": 4,
 "nbformat_minor": 5
}
