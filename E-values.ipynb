{
 "cells": [
  {
   "cell_type": "markdown",
   "id": "85b6a7c0-ef74-4a84-8065-efe9176d86ca",
   "metadata": {},
   "source": [
    "# $E$-values and Betting Scores\n",
    "\n",
    "Core references: \n",
    "\n",
    "+ Shafer, G., 2021. Testing by betting: A strategy for statistical and scientific communication,\n",
    "_Journal of the Royal Statistical Society Series A: Statistics in Society_, _184_, 407–431, https://doi.org/10.1111/rssa.12647\n",
    "\n",
    "+ Vovk, V., and R. Wang, 2021. E-values: Calibration, combination and applications, _Ann. Statist. 49_ (3) 1736-1754. https://doi.org/10.1214/20-AOS2020\n",
    "\n",
    "+ Lecture notes by V. Vovk. https://www.isibang.ac.in/~statmath/pcm2020/talk1.pdf, https://www.isibang.ac.in/~statmath/pcm2020/talk2.pdf\n",
    "\n",
    "+ Wang, R., and A. Ramdas, 2021. False discovery rate control with e-values, https://arxiv.org/pdf/2009.02824.pdf"
   ]
  },
  {
   "cell_type": "markdown",
   "id": "c7737414-543b-401e-b567-c2fa0f99efc4",
   "metadata": {},
   "source": [
    "$E$-values are a way of quantifying evidence about a statistical hypothesis. \n",
    "They are closely related to $P$-values, but more general in many ways, and possibly easier to understand.\n",
    "In particular (paraphrasing Shafer, 2021):\n",
    "\n",
    "+ An $E$-value is the observed value of a nonnegative random variable whose expected value under the null is 1: $\\mathbb{E}_0 E = 1$. In contrast, a $P$-value is the observed value of a nonnegative random variable whose probability distribution under the null is dominated by the uniform distribution: $\\mathbb{P}_0 \\{P \\le x\\} \\le x$, $\\forall x \\in [0, 1]$. It is generally a much more straightforward to construct $E$-values than $P$-values.\n",
    "\n",
    "+ $E$-values are like the returns on a bet. Most people know it's possible to win a bet with long odds by having good luck, or by identifying good bets where the payoff odds don't reflect the chance odds. Fewer people understand $P$-values. It's common to think that a small $P$-value means the alternative is true or that the probability that the null is true is small--two common misconceptions.\n",
    "\n",
    "+ Any particular bet implies an alternative hypothesis. The betting score is the likelihood of the alternative divided by the likelihood of the null. Likelihood ratios have intuitive appeal.\n",
    "\n",
    "+ Power calculations involve a fixed significance level, not a $P$-value, so there's no direct analog of power for $P$-values. In contrast, a bet also implies a target: a value for the betting score that might be expected if the alternative hypothesis is true. \n",
    "\n",
    "+ The validity of $P$-values generally requires pre-specifying the entire analysis, but betting scores can include deliberate attempts to improve one's \"fortune\" by using all currently available data to inform the next bet.  Betting scores thus may correspond better to how Science is conducted: a single hypothesis might be tested many times, and each experiment (including its design, what is measured, and the test used) might be informed by previous experiments.\n",
    "\n",
    "+ Betting scores can often be combined by multiplication, which corresponds to \"reinvesting\" the winnings in future bets, and can always be combined using averages (with or without weights). In contrast, combining $P$-values is much more subtle.\n",
    "\n"
   ]
  },
  {
   "cell_type": "markdown",
   "id": "c7b8a496-4587-4b62-a741-4068f89d2945",
   "metadata": {},
   "source": [
    "## Warm-up: hypothesis tests as bets\n",
    "\n",
    "See [hypothesis testing](./tests.ipynb).\n",
    "\n",
    "Core idea: if you can make money betting against the null hypothesis (by making bets\n",
    "that are expected to be break-even of the null hypothesis is true), that's evidence that the\n",
    "null hypothesis is false.\n",
    "\n",
    "In the typical setup for hypothesis testing, we observe data $X \\sim \\mathbb{P}$.\n",
    "To test the null hypothesis test $\\mathbb{P} = \\mathbb{P}_0$, we choose a function $\\phi(\\cdot)$ with the property that $\\mathbb{E}_{\\mathbb{P}_0,U}\\phi(X,U) = \\alpha$, where $U$ is an auxilliary uniform random variable\n",
    "independent of $X$, only needed for randomized tests.\n",
    "\n",
    "We reject the hypothesis $\\mathbb{P} = \\mathbb{P}_0$ if $U \\le \\phi(X)$.\n",
    "\n",
    "We can think of $\\phi(X)$ as an \"all-or-nothing\" bet that pays $1/\\alpha$ times the stake (which we will \n",
    "take to be \\\\$1) if $U \\le \\phi(X)$\n",
    "and 0 otherwise. \n",
    "If the null is true, the expected value of the bet is \\\\$1.\n",
    "\n",
    "A significance-level $\\alpha$ test that pays $1/\\alpha$ \n",
    "\n",
    "Two scenarios:\n",
    "+ bet once in a while, don't reinvest your winnings\n",
    "+ bet whenever you want, reinvest your winnings\n",
    "\n",
    "The first is like $P$-values and standard tests of significance: all-or-nothing bets, no \"combining evidence\" across experiments.\n",
    "The second leads to betting scores and $E$-values."
   ]
  },
  {
   "cell_type": "markdown",
   "id": "cd8cd95c-a60b-4c90-bec4-3b317f5b2da4",
   "metadata": {},
   "source": [
    "Multiple testing: suppose a hypothesis is tested 20 times at significance level 5%, producing one\n",
    "\"significant\" result. From a testing perspective, we have to adjust for multiplicity to understand\n",
    "how strong the evidence is that the null is false, and that adjustment requires knowing the dependence among the experiments. From an $E$-value perspective, the betting score is 1: \\\\$20 was wagered, and \\\\$20 was won."
   ]
  },
  {
   "cell_type": "markdown",
   "id": "8920d2c6-02e0-40c3-bd7f-feb42a8e1471",
   "metadata": {},
   "source": [
    "**Definition.**\n",
    "Let $(\\Omega, \\mathcal{A}, \\mathbb{P})$ be a probability space,\n",
    "and let $E$ be a random variable $E: \\Omega \\rightarrow [0, \\infty]$ such that\n",
    "$\\mathbb{E}_\\mathbb{P}(E) := \\int_{\\mathcal{X}} E d\\mathbb{P} \\le 1$. (Note that $E$ may take the value $\\infty$, which\n",
    "corresponds to the strongest possible evidence that the data do not come from $\\mathbb{P}$.)\n",
    "Then **$E$ is an e-variable for $\\mathbb{P}$.**\n",
    "\n",
    "Let $\\mathcal{P}$ be a collection of probability distributions on the measurable space $(\\Omega, \\mathcal{A})$,\n",
    "and let $E$ be a random variable $E: \\Omega \\rightarrow [0, \\infty]$ such that for all $\\mathbb{P} \\in \\mathcal{P}$,\n",
    "$\\mathbb{E}_\\mathbb{P}(E) := \\int_{\\mathcal{X}} E d\\mathbb{P} \\le 1$.\n",
    "Then **$E$ is an e-variable for $\\mathcal{P}$.**\n",
    "\n",
    "The set of all $E$-variables for a collection $\\mathcal{P}$ of probability distributions is $\\mathcal{E}(\\mathcal{P})$.\n",
    "\n",
    "The observed value of an $E$-variable is an $E$-value (or $e$-value).\n",
    "\n",
    "**Definition.**\n",
    "Let $(\\Omega, \\mathcal{A}, \\mathbb{P})$ be a probability space,\n",
    "and let $P$ be a random variable $P: \\Omega \\rightarrow [0, 1]$ such that\n",
    "$\\forall p \\in [0, 1]$,\n",
    "$\\mathbb{P}(P \\le p) \\le p$.\n",
    "Then **$P$ is a P-variable for $\\mathbb{P}$.**\n",
    "\n",
    "Let $\\mathcal{P}$ be a collection of probability distributions on the measurable space $(\\Omega, \\mathcal{A})$,\n",
    "and let $P$ be a random variable $P: \\Omega \\rightarrow [0, 1]$ such that for all $\\mathbb{P} \\in \\mathcal{P}$,\n",
    "$\\forall p \\in [0, 1]$,\n",
    "$\\mathbb{P}(P \\le p) \\le p$.\n",
    "Then **$P$ is a P-variable for $\\mathcal{P}$.**\n",
    "\n",
    "The set of all $P$-variables for a collection $\\mathcal{P}$ of probability distributions is $\\mathcal{P}(\\mathcal{P})$.\n",
    "\n",
    "\n",
    "The observed value of a $P$-variable is a $P$-value.\n",
    "\n"
   ]
  },
  {
   "cell_type": "markdown",
   "id": "1029036d-a146-4b18-ac35-f0e6afd62e28",
   "metadata": {},
   "source": [
    "**$P$ to $E$ calibration function**\n",
    "\n",
    "Suppose $f : [0, 1] \\rightarrow [0, \\infty]$  is a ($p$-to-$e$) calibrator if, for any probability space \n",
    "$(\\Omega, \\mathcal{A}, \\mathbb{P}) and any $P$-variable $P \\in  \\mathcal{P}_\\mathbb{P}$,\n",
    "$f(P) \\in \\mathcal{E}(\\mathcal{P}) \n",
    "\n",
    "A calibrator $f$ *dominates* a calibrator $g$ if $f \\ge g$; $f$ *strictly dominates* $g$ if $f \\ge g$ and $f \\ne g$.\n",
    "A calibrator is *admissible* if it is not strictly dominated by any other calibrator.\n",
    "\n",
    "The following proposition (Vovk & Wang, 2021 Proposition 2.2)\n",
    "says that a calibrator is a nonnegative decreasing\n",
    "function on $[0, 1]$ whose integral is at most 1.\n",
    "\n",
    "**Proposition** . \n",
    "A decreasing function $f : [0, 1] \\rightarrow [0, \\infty]$ is a calibrator if\n",
    "and only if $\\int_0^1 fdp \\le 1$. \n",
    "It is admissible if and only if it is upper semicontinuous,\n",
    "$f(0) = \\infty$, and $\\int_0^1 fdp = 1$."
   ]
  },
  {
   "cell_type": "markdown",
   "id": "28119c24-d418-4b0b-a244-69b29bdab4c9",
   "metadata": {},
   "source": [
    "**$E$ to $P$ calibration function**\n"
   ]
  }
 ],
 "metadata": {
  "kernelspec": {
   "display_name": "Python 3 (ipykernel)",
   "language": "python",
   "name": "python3"
  },
  "language_info": {
   "codemirror_mode": {
    "name": "ipython",
    "version": 3
   },
   "file_extension": ".py",
   "mimetype": "text/x-python",
   "name": "python",
   "nbconvert_exporter": "python",
   "pygments_lexer": "ipython3",
   "version": "3.10.4"
  }
 },
 "nbformat": 4,
 "nbformat_minor": 5
}
